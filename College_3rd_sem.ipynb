{
  "cells": [
    {
      "cell_type": "markdown",
      "metadata": {
        "id": "1lrV31OhJT9-"
      },
      "source": [
        "**Mobile Price Range Predictioin Project**"
      ]
    },
    {
      "cell_type": "code",
      "execution_count": null,
      "metadata": {
        "id": "E1ohWzotIUpm"
      },
      "outputs": [],
      "source": [
        "import pandas as pd\n",
        "import numpy as np\n",
        "import matplotlib.pyplot as plt\n",
        "import seaborn as sns\n",
        "%matplotlib inline"
      ]
    },
    {
      "cell_type": "markdown",
      "metadata": {
        "id": "zqd5IuuYUZwq"
      },
      "source": [
        "## ***1. Know Your Data***"
      ]
    },
    {
      "cell_type": "code",
      "execution_count": null,
      "metadata": {
        "id": "ugWGr_6iJSjI"
      },
      "outputs": [],
      "source": [
        "# Import Dataset\n",
        "\n",
        "data=pd.read_csv(\"/content/drive/MyDrive/College 3 rd Sem/data_mobile_price_range.csv\")"
      ]
    },
    {
      "cell_type": "code",
      "execution_count": null,
      "metadata": {
        "colab": {
          "base_uri": "https://localhost:8080/"
        },
        "id": "LIFvbTWKJSmZ",
        "outputId": "52a9d2ec-1ce7-42ba-8686-5ed2336f111c"
      },
      "outputs": [
        {
          "output_type": "execute_result",
          "data": {
            "text/plain": [
              "   battery_power  blue  clock_speed  dual_sim  fc  four_g  int_memory  m_dep  \\\n",
              "0            842     0          2.2         0   1       0           7    0.6   \n",
              "1           1021     1          0.5         1   0       1          53    0.7   \n",
              "2            563     1          0.5         1   2       1          41    0.9   \n",
              "3            615     1          2.5         0   0       0          10    0.8   \n",
              "4           1821     1          1.2         0  13       1          44    0.6   \n",
              "\n",
              "   mobile_wt  n_cores  ...  px_height  px_width   ram  sc_h  sc_w  talk_time  \\\n",
              "0        188        2  ...         20       756  2549     9     7         19   \n",
              "1        136        3  ...        905      1988  2631    17     3          7   \n",
              "2        145        5  ...       1263      1716  2603    11     2          9   \n",
              "3        131        6  ...       1216      1786  2769    16     8         11   \n",
              "4        141        2  ...       1208      1212  1411     8     2         15   \n",
              "\n",
              "   three_g  touch_screen  wifi  price_range  \n",
              "0        0             0     1            1  \n",
              "1        1             1     0            2  \n",
              "2        1             1     0            2  \n",
              "3        1             0     0            2  \n",
              "4        1             1     0            1  \n",
              "\n",
              "[5 rows x 21 columns]"
            ],
            "text/html": [
              "\n",
              "  <div id=\"df-2a6caac8-3d0c-469c-b6cf-50bb693486c8\" class=\"colab-df-container\">\n",
              "    <div>\n",
              "<style scoped>\n",
              "    .dataframe tbody tr th:only-of-type {\n",
              "        vertical-align: middle;\n",
              "    }\n",
              "\n",
              "    .dataframe tbody tr th {\n",
              "        vertical-align: top;\n",
              "    }\n",
              "\n",
              "    .dataframe thead th {\n",
              "        text-align: right;\n",
              "    }\n",
              "</style>\n",
              "<table border=\"1\" class=\"dataframe\">\n",
              "  <thead>\n",
              "    <tr style=\"text-align: right;\">\n",
              "      <th></th>\n",
              "      <th>battery_power</th>\n",
              "      <th>blue</th>\n",
              "      <th>clock_speed</th>\n",
              "      <th>dual_sim</th>\n",
              "      <th>fc</th>\n",
              "      <th>four_g</th>\n",
              "      <th>int_memory</th>\n",
              "      <th>m_dep</th>\n",
              "      <th>mobile_wt</th>\n",
              "      <th>n_cores</th>\n",
              "      <th>...</th>\n",
              "      <th>px_height</th>\n",
              "      <th>px_width</th>\n",
              "      <th>ram</th>\n",
              "      <th>sc_h</th>\n",
              "      <th>sc_w</th>\n",
              "      <th>talk_time</th>\n",
              "      <th>three_g</th>\n",
              "      <th>touch_screen</th>\n",
              "      <th>wifi</th>\n",
              "      <th>price_range</th>\n",
              "    </tr>\n",
              "  </thead>\n",
              "  <tbody>\n",
              "    <tr>\n",
              "      <th>0</th>\n",
              "      <td>842</td>\n",
              "      <td>0</td>\n",
              "      <td>2.2</td>\n",
              "      <td>0</td>\n",
              "      <td>1</td>\n",
              "      <td>0</td>\n",
              "      <td>7</td>\n",
              "      <td>0.6</td>\n",
              "      <td>188</td>\n",
              "      <td>2</td>\n",
              "      <td>...</td>\n",
              "      <td>20</td>\n",
              "      <td>756</td>\n",
              "      <td>2549</td>\n",
              "      <td>9</td>\n",
              "      <td>7</td>\n",
              "      <td>19</td>\n",
              "      <td>0</td>\n",
              "      <td>0</td>\n",
              "      <td>1</td>\n",
              "      <td>1</td>\n",
              "    </tr>\n",
              "    <tr>\n",
              "      <th>1</th>\n",
              "      <td>1021</td>\n",
              "      <td>1</td>\n",
              "      <td>0.5</td>\n",
              "      <td>1</td>\n",
              "      <td>0</td>\n",
              "      <td>1</td>\n",
              "      <td>53</td>\n",
              "      <td>0.7</td>\n",
              "      <td>136</td>\n",
              "      <td>3</td>\n",
              "      <td>...</td>\n",
              "      <td>905</td>\n",
              "      <td>1988</td>\n",
              "      <td>2631</td>\n",
              "      <td>17</td>\n",
              "      <td>3</td>\n",
              "      <td>7</td>\n",
              "      <td>1</td>\n",
              "      <td>1</td>\n",
              "      <td>0</td>\n",
              "      <td>2</td>\n",
              "    </tr>\n",
              "    <tr>\n",
              "      <th>2</th>\n",
              "      <td>563</td>\n",
              "      <td>1</td>\n",
              "      <td>0.5</td>\n",
              "      <td>1</td>\n",
              "      <td>2</td>\n",
              "      <td>1</td>\n",
              "      <td>41</td>\n",
              "      <td>0.9</td>\n",
              "      <td>145</td>\n",
              "      <td>5</td>\n",
              "      <td>...</td>\n",
              "      <td>1263</td>\n",
              "      <td>1716</td>\n",
              "      <td>2603</td>\n",
              "      <td>11</td>\n",
              "      <td>2</td>\n",
              "      <td>9</td>\n",
              "      <td>1</td>\n",
              "      <td>1</td>\n",
              "      <td>0</td>\n",
              "      <td>2</td>\n",
              "    </tr>\n",
              "    <tr>\n",
              "      <th>3</th>\n",
              "      <td>615</td>\n",
              "      <td>1</td>\n",
              "      <td>2.5</td>\n",
              "      <td>0</td>\n",
              "      <td>0</td>\n",
              "      <td>0</td>\n",
              "      <td>10</td>\n",
              "      <td>0.8</td>\n",
              "      <td>131</td>\n",
              "      <td>6</td>\n",
              "      <td>...</td>\n",
              "      <td>1216</td>\n",
              "      <td>1786</td>\n",
              "      <td>2769</td>\n",
              "      <td>16</td>\n",
              "      <td>8</td>\n",
              "      <td>11</td>\n",
              "      <td>1</td>\n",
              "      <td>0</td>\n",
              "      <td>0</td>\n",
              "      <td>2</td>\n",
              "    </tr>\n",
              "    <tr>\n",
              "      <th>4</th>\n",
              "      <td>1821</td>\n",
              "      <td>1</td>\n",
              "      <td>1.2</td>\n",
              "      <td>0</td>\n",
              "      <td>13</td>\n",
              "      <td>1</td>\n",
              "      <td>44</td>\n",
              "      <td>0.6</td>\n",
              "      <td>141</td>\n",
              "      <td>2</td>\n",
              "      <td>...</td>\n",
              "      <td>1208</td>\n",
              "      <td>1212</td>\n",
              "      <td>1411</td>\n",
              "      <td>8</td>\n",
              "      <td>2</td>\n",
              "      <td>15</td>\n",
              "      <td>1</td>\n",
              "      <td>1</td>\n",
              "      <td>0</td>\n",
              "      <td>1</td>\n",
              "    </tr>\n",
              "  </tbody>\n",
              "</table>\n",
              "<p>5 rows × 21 columns</p>\n",
              "</div>\n",
              "    <div class=\"colab-df-buttons\">\n",
              "\n",
              "  <div class=\"colab-df-container\">\n",
              "    <button class=\"colab-df-convert\" onclick=\"convertToInteractive('df-2a6caac8-3d0c-469c-b6cf-50bb693486c8')\"\n",
              "            title=\"Convert this dataframe to an interactive table.\"\n",
              "            style=\"display:none;\">\n",
              "\n",
              "  <svg xmlns=\"http://www.w3.org/2000/svg\" height=\"24px\" viewBox=\"0 -960 960 960\">\n",
              "    <path d=\"M120-120v-720h720v720H120Zm60-500h600v-160H180v160Zm220 220h160v-160H400v160Zm0 220h160v-160H400v160ZM180-400h160v-160H180v160Zm440 0h160v-160H620v160ZM180-180h160v-160H180v160Zm440 0h160v-160H620v160Z\"/>\n",
              "  </svg>\n",
              "    </button>\n",
              "\n",
              "  <style>\n",
              "    .colab-df-container {\n",
              "      display:flex;\n",
              "      gap: 12px;\n",
              "    }\n",
              "\n",
              "    .colab-df-convert {\n",
              "      background-color: #E8F0FE;\n",
              "      border: none;\n",
              "      border-radius: 50%;\n",
              "      cursor: pointer;\n",
              "      display: none;\n",
              "      fill: #1967D2;\n",
              "      height: 32px;\n",
              "      padding: 0 0 0 0;\n",
              "      width: 32px;\n",
              "    }\n",
              "\n",
              "    .colab-df-convert:hover {\n",
              "      background-color: #E2EBFA;\n",
              "      box-shadow: 0px 1px 2px rgba(60, 64, 67, 0.3), 0px 1px 3px 1px rgba(60, 64, 67, 0.15);\n",
              "      fill: #174EA6;\n",
              "    }\n",
              "\n",
              "    .colab-df-buttons div {\n",
              "      margin-bottom: 4px;\n",
              "    }\n",
              "\n",
              "    [theme=dark] .colab-df-convert {\n",
              "      background-color: #3B4455;\n",
              "      fill: #D2E3FC;\n",
              "    }\n",
              "\n",
              "    [theme=dark] .colab-df-convert:hover {\n",
              "      background-color: #434B5C;\n",
              "      box-shadow: 0px 1px 3px 1px rgba(0, 0, 0, 0.15);\n",
              "      filter: drop-shadow(0px 1px 2px rgba(0, 0, 0, 0.3));\n",
              "      fill: #FFFFFF;\n",
              "    }\n",
              "  </style>\n",
              "\n",
              "    <script>\n",
              "      const buttonEl =\n",
              "        document.querySelector('#df-2a6caac8-3d0c-469c-b6cf-50bb693486c8 button.colab-df-convert');\n",
              "      buttonEl.style.display =\n",
              "        google.colab.kernel.accessAllowed ? 'block' : 'none';\n",
              "\n",
              "      async function convertToInteractive(key) {\n",
              "        const element = document.querySelector('#df-2a6caac8-3d0c-469c-b6cf-50bb693486c8');\n",
              "        const dataTable =\n",
              "          await google.colab.kernel.invokeFunction('convertToInteractive',\n",
              "                                                    [key], {});\n",
              "        if (!dataTable) return;\n",
              "\n",
              "        const docLinkHtml = 'Like what you see? Visit the ' +\n",
              "          '<a target=\"_blank\" href=https://colab.research.google.com/notebooks/data_table.ipynb>data table notebook</a>'\n",
              "          + ' to learn more about interactive tables.';\n",
              "        element.innerHTML = '';\n",
              "        dataTable['output_type'] = 'display_data';\n",
              "        await google.colab.output.renderOutput(dataTable, element);\n",
              "        const docLink = document.createElement('div');\n",
              "        docLink.innerHTML = docLinkHtml;\n",
              "        element.appendChild(docLink);\n",
              "      }\n",
              "    </script>\n",
              "  </div>\n",
              "\n",
              "\n",
              "<div id=\"df-86172e75-0e98-464b-8643-6ebeb4c8d128\">\n",
              "  <button class=\"colab-df-quickchart\" onclick=\"quickchart('df-86172e75-0e98-464b-8643-6ebeb4c8d128')\"\n",
              "            title=\"Suggest charts\"\n",
              "            style=\"display:none;\">\n",
              "\n",
              "<svg xmlns=\"http://www.w3.org/2000/svg\" height=\"24px\"viewBox=\"0 0 24 24\"\n",
              "     width=\"24px\">\n",
              "    <g>\n",
              "        <path d=\"M19 3H5c-1.1 0-2 .9-2 2v14c0 1.1.9 2 2 2h14c1.1 0 2-.9 2-2V5c0-1.1-.9-2-2-2zM9 17H7v-7h2v7zm4 0h-2V7h2v10zm4 0h-2v-4h2v4z\"/>\n",
              "    </g>\n",
              "</svg>\n",
              "  </button>\n",
              "\n",
              "<style>\n",
              "  .colab-df-quickchart {\n",
              "      --bg-color: #E8F0FE;\n",
              "      --fill-color: #1967D2;\n",
              "      --hover-bg-color: #E2EBFA;\n",
              "      --hover-fill-color: #174EA6;\n",
              "      --disabled-fill-color: #AAA;\n",
              "      --disabled-bg-color: #DDD;\n",
              "  }\n",
              "\n",
              "  [theme=dark] .colab-df-quickchart {\n",
              "      --bg-color: #3B4455;\n",
              "      --fill-color: #D2E3FC;\n",
              "      --hover-bg-color: #434B5C;\n",
              "      --hover-fill-color: #FFFFFF;\n",
              "      --disabled-bg-color: #3B4455;\n",
              "      --disabled-fill-color: #666;\n",
              "  }\n",
              "\n",
              "  .colab-df-quickchart {\n",
              "    background-color: var(--bg-color);\n",
              "    border: none;\n",
              "    border-radius: 50%;\n",
              "    cursor: pointer;\n",
              "    display: none;\n",
              "    fill: var(--fill-color);\n",
              "    height: 32px;\n",
              "    padding: 0;\n",
              "    width: 32px;\n",
              "  }\n",
              "\n",
              "  .colab-df-quickchart:hover {\n",
              "    background-color: var(--hover-bg-color);\n",
              "    box-shadow: 0 1px 2px rgba(60, 64, 67, 0.3), 0 1px 3px 1px rgba(60, 64, 67, 0.15);\n",
              "    fill: var(--button-hover-fill-color);\n",
              "  }\n",
              "\n",
              "  .colab-df-quickchart-complete:disabled,\n",
              "  .colab-df-quickchart-complete:disabled:hover {\n",
              "    background-color: var(--disabled-bg-color);\n",
              "    fill: var(--disabled-fill-color);\n",
              "    box-shadow: none;\n",
              "  }\n",
              "\n",
              "  .colab-df-spinner {\n",
              "    border: 2px solid var(--fill-color);\n",
              "    border-color: transparent;\n",
              "    border-bottom-color: var(--fill-color);\n",
              "    animation:\n",
              "      spin 1s steps(1) infinite;\n",
              "  }\n",
              "\n",
              "  @keyframes spin {\n",
              "    0% {\n",
              "      border-color: transparent;\n",
              "      border-bottom-color: var(--fill-color);\n",
              "      border-left-color: var(--fill-color);\n",
              "    }\n",
              "    20% {\n",
              "      border-color: transparent;\n",
              "      border-left-color: var(--fill-color);\n",
              "      border-top-color: var(--fill-color);\n",
              "    }\n",
              "    30% {\n",
              "      border-color: transparent;\n",
              "      border-left-color: var(--fill-color);\n",
              "      border-top-color: var(--fill-color);\n",
              "      border-right-color: var(--fill-color);\n",
              "    }\n",
              "    40% {\n",
              "      border-color: transparent;\n",
              "      border-right-color: var(--fill-color);\n",
              "      border-top-color: var(--fill-color);\n",
              "    }\n",
              "    60% {\n",
              "      border-color: transparent;\n",
              "      border-right-color: var(--fill-color);\n",
              "    }\n",
              "    80% {\n",
              "      border-color: transparent;\n",
              "      border-right-color: var(--fill-color);\n",
              "      border-bottom-color: var(--fill-color);\n",
              "    }\n",
              "    90% {\n",
              "      border-color: transparent;\n",
              "      border-bottom-color: var(--fill-color);\n",
              "    }\n",
              "  }\n",
              "</style>\n",
              "\n",
              "  <script>\n",
              "    async function quickchart(key) {\n",
              "      const quickchartButtonEl =\n",
              "        document.querySelector('#' + key + ' button');\n",
              "      quickchartButtonEl.disabled = true;  // To prevent multiple clicks.\n",
              "      quickchartButtonEl.classList.add('colab-df-spinner');\n",
              "      try {\n",
              "        const charts = await google.colab.kernel.invokeFunction(\n",
              "            'suggestCharts', [key], {});\n",
              "      } catch (error) {\n",
              "        console.error('Error during call to suggestCharts:', error);\n",
              "      }\n",
              "      quickchartButtonEl.classList.remove('colab-df-spinner');\n",
              "      quickchartButtonEl.classList.add('colab-df-quickchart-complete');\n",
              "    }\n",
              "    (() => {\n",
              "      let quickchartButtonEl =\n",
              "        document.querySelector('#df-86172e75-0e98-464b-8643-6ebeb4c8d128 button');\n",
              "      quickchartButtonEl.style.display =\n",
              "        google.colab.kernel.accessAllowed ? 'block' : 'none';\n",
              "    })();\n",
              "  </script>\n",
              "</div>\n",
              "    </div>\n",
              "  </div>\n"
            ]
          },
          "metadata": {},
          "execution_count": 3
        }
      ],
      "source": [
        "# Top rows\n",
        "\n",
        "data.head()"
      ]
    },
    {
      "cell_type": "code",
      "execution_count": null,
      "metadata": {
        "colab": {
          "base_uri": "https://localhost:8080/"
        },
        "id": "jU09nvdYJSoz",
        "outputId": "373054ae-f43f-49dd-9678-d41eb21b40d7"
      },
      "outputs": [
        {
          "output_type": "execute_result",
          "data": {
            "text/plain": [
              "      battery_power  blue  clock_speed  dual_sim  fc  four_g  int_memory  \\\n",
              "1995            794     1          0.5         1   0       1           2   \n",
              "1996           1965     1          2.6         1   0       0          39   \n",
              "1997           1911     0          0.9         1   1       1          36   \n",
              "1998           1512     0          0.9         0   4       1          46   \n",
              "1999            510     1          2.0         1   5       1          45   \n",
              "\n",
              "      m_dep  mobile_wt  n_cores  ...  px_height  px_width   ram  sc_h  sc_w  \\\n",
              "1995    0.8        106        6  ...       1222      1890   668    13     4   \n",
              "1996    0.2        187        4  ...        915      1965  2032    11    10   \n",
              "1997    0.7        108        8  ...        868      1632  3057     9     1   \n",
              "1998    0.1        145        5  ...        336       670   869    18    10   \n",
              "1999    0.9        168        6  ...        483       754  3919    19     4   \n",
              "\n",
              "      talk_time  three_g  touch_screen  wifi  price_range  \n",
              "1995         19        1             1     0            0  \n",
              "1996         16        1             1     1            2  \n",
              "1997          5        1             1     0            3  \n",
              "1998         19        1             1     1            0  \n",
              "1999          2        1             1     1            3  \n",
              "\n",
              "[5 rows x 21 columns]"
            ],
            "text/html": [
              "\n",
              "  <div id=\"df-41edd75c-cc22-40a7-9421-ca98b53ac460\" class=\"colab-df-container\">\n",
              "    <div>\n",
              "<style scoped>\n",
              "    .dataframe tbody tr th:only-of-type {\n",
              "        vertical-align: middle;\n",
              "    }\n",
              "\n",
              "    .dataframe tbody tr th {\n",
              "        vertical-align: top;\n",
              "    }\n",
              "\n",
              "    .dataframe thead th {\n",
              "        text-align: right;\n",
              "    }\n",
              "</style>\n",
              "<table border=\"1\" class=\"dataframe\">\n",
              "  <thead>\n",
              "    <tr style=\"text-align: right;\">\n",
              "      <th></th>\n",
              "      <th>battery_power</th>\n",
              "      <th>blue</th>\n",
              "      <th>clock_speed</th>\n",
              "      <th>dual_sim</th>\n",
              "      <th>fc</th>\n",
              "      <th>four_g</th>\n",
              "      <th>int_memory</th>\n",
              "      <th>m_dep</th>\n",
              "      <th>mobile_wt</th>\n",
              "      <th>n_cores</th>\n",
              "      <th>...</th>\n",
              "      <th>px_height</th>\n",
              "      <th>px_width</th>\n",
              "      <th>ram</th>\n",
              "      <th>sc_h</th>\n",
              "      <th>sc_w</th>\n",
              "      <th>talk_time</th>\n",
              "      <th>three_g</th>\n",
              "      <th>touch_screen</th>\n",
              "      <th>wifi</th>\n",
              "      <th>price_range</th>\n",
              "    </tr>\n",
              "  </thead>\n",
              "  <tbody>\n",
              "    <tr>\n",
              "      <th>1995</th>\n",
              "      <td>794</td>\n",
              "      <td>1</td>\n",
              "      <td>0.5</td>\n",
              "      <td>1</td>\n",
              "      <td>0</td>\n",
              "      <td>1</td>\n",
              "      <td>2</td>\n",
              "      <td>0.8</td>\n",
              "      <td>106</td>\n",
              "      <td>6</td>\n",
              "      <td>...</td>\n",
              "      <td>1222</td>\n",
              "      <td>1890</td>\n",
              "      <td>668</td>\n",
              "      <td>13</td>\n",
              "      <td>4</td>\n",
              "      <td>19</td>\n",
              "      <td>1</td>\n",
              "      <td>1</td>\n",
              "      <td>0</td>\n",
              "      <td>0</td>\n",
              "    </tr>\n",
              "    <tr>\n",
              "      <th>1996</th>\n",
              "      <td>1965</td>\n",
              "      <td>1</td>\n",
              "      <td>2.6</td>\n",
              "      <td>1</td>\n",
              "      <td>0</td>\n",
              "      <td>0</td>\n",
              "      <td>39</td>\n",
              "      <td>0.2</td>\n",
              "      <td>187</td>\n",
              "      <td>4</td>\n",
              "      <td>...</td>\n",
              "      <td>915</td>\n",
              "      <td>1965</td>\n",
              "      <td>2032</td>\n",
              "      <td>11</td>\n",
              "      <td>10</td>\n",
              "      <td>16</td>\n",
              "      <td>1</td>\n",
              "      <td>1</td>\n",
              "      <td>1</td>\n",
              "      <td>2</td>\n",
              "    </tr>\n",
              "    <tr>\n",
              "      <th>1997</th>\n",
              "      <td>1911</td>\n",
              "      <td>0</td>\n",
              "      <td>0.9</td>\n",
              "      <td>1</td>\n",
              "      <td>1</td>\n",
              "      <td>1</td>\n",
              "      <td>36</td>\n",
              "      <td>0.7</td>\n",
              "      <td>108</td>\n",
              "      <td>8</td>\n",
              "      <td>...</td>\n",
              "      <td>868</td>\n",
              "      <td>1632</td>\n",
              "      <td>3057</td>\n",
              "      <td>9</td>\n",
              "      <td>1</td>\n",
              "      <td>5</td>\n",
              "      <td>1</td>\n",
              "      <td>1</td>\n",
              "      <td>0</td>\n",
              "      <td>3</td>\n",
              "    </tr>\n",
              "    <tr>\n",
              "      <th>1998</th>\n",
              "      <td>1512</td>\n",
              "      <td>0</td>\n",
              "      <td>0.9</td>\n",
              "      <td>0</td>\n",
              "      <td>4</td>\n",
              "      <td>1</td>\n",
              "      <td>46</td>\n",
              "      <td>0.1</td>\n",
              "      <td>145</td>\n",
              "      <td>5</td>\n",
              "      <td>...</td>\n",
              "      <td>336</td>\n",
              "      <td>670</td>\n",
              "      <td>869</td>\n",
              "      <td>18</td>\n",
              "      <td>10</td>\n",
              "      <td>19</td>\n",
              "      <td>1</td>\n",
              "      <td>1</td>\n",
              "      <td>1</td>\n",
              "      <td>0</td>\n",
              "    </tr>\n",
              "    <tr>\n",
              "      <th>1999</th>\n",
              "      <td>510</td>\n",
              "      <td>1</td>\n",
              "      <td>2.0</td>\n",
              "      <td>1</td>\n",
              "      <td>5</td>\n",
              "      <td>1</td>\n",
              "      <td>45</td>\n",
              "      <td>0.9</td>\n",
              "      <td>168</td>\n",
              "      <td>6</td>\n",
              "      <td>...</td>\n",
              "      <td>483</td>\n",
              "      <td>754</td>\n",
              "      <td>3919</td>\n",
              "      <td>19</td>\n",
              "      <td>4</td>\n",
              "      <td>2</td>\n",
              "      <td>1</td>\n",
              "      <td>1</td>\n",
              "      <td>1</td>\n",
              "      <td>3</td>\n",
              "    </tr>\n",
              "  </tbody>\n",
              "</table>\n",
              "<p>5 rows × 21 columns</p>\n",
              "</div>\n",
              "    <div class=\"colab-df-buttons\">\n",
              "\n",
              "  <div class=\"colab-df-container\">\n",
              "    <button class=\"colab-df-convert\" onclick=\"convertToInteractive('df-41edd75c-cc22-40a7-9421-ca98b53ac460')\"\n",
              "            title=\"Convert this dataframe to an interactive table.\"\n",
              "            style=\"display:none;\">\n",
              "\n",
              "  <svg xmlns=\"http://www.w3.org/2000/svg\" height=\"24px\" viewBox=\"0 -960 960 960\">\n",
              "    <path d=\"M120-120v-720h720v720H120Zm60-500h600v-160H180v160Zm220 220h160v-160H400v160Zm0 220h160v-160H400v160ZM180-400h160v-160H180v160Zm440 0h160v-160H620v160ZM180-180h160v-160H180v160Zm440 0h160v-160H620v160Z\"/>\n",
              "  </svg>\n",
              "    </button>\n",
              "\n",
              "  <style>\n",
              "    .colab-df-container {\n",
              "      display:flex;\n",
              "      gap: 12px;\n",
              "    }\n",
              "\n",
              "    .colab-df-convert {\n",
              "      background-color: #E8F0FE;\n",
              "      border: none;\n",
              "      border-radius: 50%;\n",
              "      cursor: pointer;\n",
              "      display: none;\n",
              "      fill: #1967D2;\n",
              "      height: 32px;\n",
              "      padding: 0 0 0 0;\n",
              "      width: 32px;\n",
              "    }\n",
              "\n",
              "    .colab-df-convert:hover {\n",
              "      background-color: #E2EBFA;\n",
              "      box-shadow: 0px 1px 2px rgba(60, 64, 67, 0.3), 0px 1px 3px 1px rgba(60, 64, 67, 0.15);\n",
              "      fill: #174EA6;\n",
              "    }\n",
              "\n",
              "    .colab-df-buttons div {\n",
              "      margin-bottom: 4px;\n",
              "    }\n",
              "\n",
              "    [theme=dark] .colab-df-convert {\n",
              "      background-color: #3B4455;\n",
              "      fill: #D2E3FC;\n",
              "    }\n",
              "\n",
              "    [theme=dark] .colab-df-convert:hover {\n",
              "      background-color: #434B5C;\n",
              "      box-shadow: 0px 1px 3px 1px rgba(0, 0, 0, 0.15);\n",
              "      filter: drop-shadow(0px 1px 2px rgba(0, 0, 0, 0.3));\n",
              "      fill: #FFFFFF;\n",
              "    }\n",
              "  </style>\n",
              "\n",
              "    <script>\n",
              "      const buttonEl =\n",
              "        document.querySelector('#df-41edd75c-cc22-40a7-9421-ca98b53ac460 button.colab-df-convert');\n",
              "      buttonEl.style.display =\n",
              "        google.colab.kernel.accessAllowed ? 'block' : 'none';\n",
              "\n",
              "      async function convertToInteractive(key) {\n",
              "        const element = document.querySelector('#df-41edd75c-cc22-40a7-9421-ca98b53ac460');\n",
              "        const dataTable =\n",
              "          await google.colab.kernel.invokeFunction('convertToInteractive',\n",
              "                                                    [key], {});\n",
              "        if (!dataTable) return;\n",
              "\n",
              "        const docLinkHtml = 'Like what you see? Visit the ' +\n",
              "          '<a target=\"_blank\" href=https://colab.research.google.com/notebooks/data_table.ipynb>data table notebook</a>'\n",
              "          + ' to learn more about interactive tables.';\n",
              "        element.innerHTML = '';\n",
              "        dataTable['output_type'] = 'display_data';\n",
              "        await google.colab.output.renderOutput(dataTable, element);\n",
              "        const docLink = document.createElement('div');\n",
              "        docLink.innerHTML = docLinkHtml;\n",
              "        element.appendChild(docLink);\n",
              "      }\n",
              "    </script>\n",
              "  </div>\n",
              "\n",
              "\n",
              "<div id=\"df-0241c115-2a5c-494a-995f-b9eac71c535a\">\n",
              "  <button class=\"colab-df-quickchart\" onclick=\"quickchart('df-0241c115-2a5c-494a-995f-b9eac71c535a')\"\n",
              "            title=\"Suggest charts\"\n",
              "            style=\"display:none;\">\n",
              "\n",
              "<svg xmlns=\"http://www.w3.org/2000/svg\" height=\"24px\"viewBox=\"0 0 24 24\"\n",
              "     width=\"24px\">\n",
              "    <g>\n",
              "        <path d=\"M19 3H5c-1.1 0-2 .9-2 2v14c0 1.1.9 2 2 2h14c1.1 0 2-.9 2-2V5c0-1.1-.9-2-2-2zM9 17H7v-7h2v7zm4 0h-2V7h2v10zm4 0h-2v-4h2v4z\"/>\n",
              "    </g>\n",
              "</svg>\n",
              "  </button>\n",
              "\n",
              "<style>\n",
              "  .colab-df-quickchart {\n",
              "      --bg-color: #E8F0FE;\n",
              "      --fill-color: #1967D2;\n",
              "      --hover-bg-color: #E2EBFA;\n",
              "      --hover-fill-color: #174EA6;\n",
              "      --disabled-fill-color: #AAA;\n",
              "      --disabled-bg-color: #DDD;\n",
              "  }\n",
              "\n",
              "  [theme=dark] .colab-df-quickchart {\n",
              "      --bg-color: #3B4455;\n",
              "      --fill-color: #D2E3FC;\n",
              "      --hover-bg-color: #434B5C;\n",
              "      --hover-fill-color: #FFFFFF;\n",
              "      --disabled-bg-color: #3B4455;\n",
              "      --disabled-fill-color: #666;\n",
              "  }\n",
              "\n",
              "  .colab-df-quickchart {\n",
              "    background-color: var(--bg-color);\n",
              "    border: none;\n",
              "    border-radius: 50%;\n",
              "    cursor: pointer;\n",
              "    display: none;\n",
              "    fill: var(--fill-color);\n",
              "    height: 32px;\n",
              "    padding: 0;\n",
              "    width: 32px;\n",
              "  }\n",
              "\n",
              "  .colab-df-quickchart:hover {\n",
              "    background-color: var(--hover-bg-color);\n",
              "    box-shadow: 0 1px 2px rgba(60, 64, 67, 0.3), 0 1px 3px 1px rgba(60, 64, 67, 0.15);\n",
              "    fill: var(--button-hover-fill-color);\n",
              "  }\n",
              "\n",
              "  .colab-df-quickchart-complete:disabled,\n",
              "  .colab-df-quickchart-complete:disabled:hover {\n",
              "    background-color: var(--disabled-bg-color);\n",
              "    fill: var(--disabled-fill-color);\n",
              "    box-shadow: none;\n",
              "  }\n",
              "\n",
              "  .colab-df-spinner {\n",
              "    border: 2px solid var(--fill-color);\n",
              "    border-color: transparent;\n",
              "    border-bottom-color: var(--fill-color);\n",
              "    animation:\n",
              "      spin 1s steps(1) infinite;\n",
              "  }\n",
              "\n",
              "  @keyframes spin {\n",
              "    0% {\n",
              "      border-color: transparent;\n",
              "      border-bottom-color: var(--fill-color);\n",
              "      border-left-color: var(--fill-color);\n",
              "    }\n",
              "    20% {\n",
              "      border-color: transparent;\n",
              "      border-left-color: var(--fill-color);\n",
              "      border-top-color: var(--fill-color);\n",
              "    }\n",
              "    30% {\n",
              "      border-color: transparent;\n",
              "      border-left-color: var(--fill-color);\n",
              "      border-top-color: var(--fill-color);\n",
              "      border-right-color: var(--fill-color);\n",
              "    }\n",
              "    40% {\n",
              "      border-color: transparent;\n",
              "      border-right-color: var(--fill-color);\n",
              "      border-top-color: var(--fill-color);\n",
              "    }\n",
              "    60% {\n",
              "      border-color: transparent;\n",
              "      border-right-color: var(--fill-color);\n",
              "    }\n",
              "    80% {\n",
              "      border-color: transparent;\n",
              "      border-right-color: var(--fill-color);\n",
              "      border-bottom-color: var(--fill-color);\n",
              "    }\n",
              "    90% {\n",
              "      border-color: transparent;\n",
              "      border-bottom-color: var(--fill-color);\n",
              "    }\n",
              "  }\n",
              "</style>\n",
              "\n",
              "  <script>\n",
              "    async function quickchart(key) {\n",
              "      const quickchartButtonEl =\n",
              "        document.querySelector('#' + key + ' button');\n",
              "      quickchartButtonEl.disabled = true;  // To prevent multiple clicks.\n",
              "      quickchartButtonEl.classList.add('colab-df-spinner');\n",
              "      try {\n",
              "        const charts = await google.colab.kernel.invokeFunction(\n",
              "            'suggestCharts', [key], {});\n",
              "      } catch (error) {\n",
              "        console.error('Error during call to suggestCharts:', error);\n",
              "      }\n",
              "      quickchartButtonEl.classList.remove('colab-df-spinner');\n",
              "      quickchartButtonEl.classList.add('colab-df-quickchart-complete');\n",
              "    }\n",
              "    (() => {\n",
              "      let quickchartButtonEl =\n",
              "        document.querySelector('#df-0241c115-2a5c-494a-995f-b9eac71c535a button');\n",
              "      quickchartButtonEl.style.display =\n",
              "        google.colab.kernel.accessAllowed ? 'block' : 'none';\n",
              "    })();\n",
              "  </script>\n",
              "</div>\n",
              "    </div>\n",
              "  </div>\n"
            ]
          },
          "metadata": {},
          "execution_count": 4
        }
      ],
      "source": [
        "# Bottom rows\n",
        "\n",
        "data.tail()"
      ]
    },
    {
      "cell_type": "code",
      "execution_count": null,
      "metadata": {
        "colab": {
          "base_uri": "https://localhost:8080/"
        },
        "id": "9Ysa6ihCJSrz",
        "outputId": "39097a52-7438-4e28-8ac5-891a0ae234d7"
      },
      "outputs": [
        {
          "output_type": "stream",
          "name": "stdout",
          "text": [
            "Number of rows is  2000\n",
            "Number of columns is  21\n"
          ]
        }
      ],
      "source": [
        "# Dimension of Dataset\n",
        "\n",
        "rows=len(data.axes[0])\n",
        "\n",
        "col=len(data.axes[1])\n",
        "\n",
        "print(\"Number of rows is \", rows)\n",
        "print(\"Number of columns is \", col)"
      ]
    },
    {
      "cell_type": "markdown",
      "metadata": {
        "id": "wViVmaQRUOuI"
      },
      "source": [
        "## ***2. Understanding Your Variables***"
      ]
    },
    {
      "cell_type": "code",
      "execution_count": null,
      "metadata": {
        "colab": {
          "base_uri": "https://localhost:8080/"
        },
        "id": "DUn7XpOPJSuj",
        "outputId": "e238d81a-be1a-4e2f-a83c-65828c56d1d5"
      },
      "outputs": [
        {
          "output_type": "stream",
          "name": "stdout",
          "text": [
            "<class 'pandas.core.frame.DataFrame'>\n",
            "RangeIndex: 2000 entries, 0 to 1999\n",
            "Data columns (total 21 columns):\n",
            " #   Column         Non-Null Count  Dtype  \n",
            "---  ------         --------------  -----  \n",
            " 0   battery_power  2000 non-null   int64  \n",
            " 1   blue           2000 non-null   int64  \n",
            " 2   clock_speed    2000 non-null   float64\n",
            " 3   dual_sim       2000 non-null   int64  \n",
            " 4   fc             2000 non-null   int64  \n",
            " 5   four_g         2000 non-null   int64  \n",
            " 6   int_memory     2000 non-null   int64  \n",
            " 7   m_dep          2000 non-null   float64\n",
            " 8   mobile_wt      2000 non-null   int64  \n",
            " 9   n_cores        2000 non-null   int64  \n",
            " 10  pc             2000 non-null   int64  \n",
            " 11  px_height      2000 non-null   int64  \n",
            " 12  px_width       2000 non-null   int64  \n",
            " 13  ram            2000 non-null   int64  \n",
            " 14  sc_h           2000 non-null   int64  \n",
            " 15  sc_w           2000 non-null   int64  \n",
            " 16  talk_time      2000 non-null   int64  \n",
            " 17  three_g        2000 non-null   int64  \n",
            " 18  touch_screen   2000 non-null   int64  \n",
            " 19  wifi           2000 non-null   int64  \n",
            " 20  price_range    2000 non-null   int64  \n",
            "dtypes: float64(2), int64(19)\n",
            "memory usage: 328.2 KB\n"
          ]
        }
      ],
      "source": [
        "# Dataset information\n",
        "\n",
        "data.info()"
      ]
    },
    {
      "cell_type": "code",
      "execution_count": null,
      "metadata": {
        "colab": {
          "base_uri": "https://localhost:8080/"
        },
        "id": "8tnC1mSfJSxn",
        "outputId": "6adbfc7b-2715-4b15-88c5-dcfa1eab6a78"
      },
      "outputs": [
        {
          "output_type": "execute_result",
          "data": {
            "text/plain": [
              "0"
            ]
          },
          "metadata": {},
          "execution_count": 7
        }
      ],
      "source": [
        "# Duplicated Data\n",
        "\n",
        "data.duplicated().sum()"
      ]
    },
    {
      "cell_type": "markdown",
      "metadata": {
        "id": "_rdp07GFMYVk"
      },
      "source": [
        "*  In our Dataset there is **no** **duplicated** values are present.\n",
        "\n",
        "\n",
        "\n"
      ]
    },
    {
      "cell_type": "code",
      "execution_count": null,
      "metadata": {
        "colab": {
          "base_uri": "https://localhost:8080/"
        },
        "id": "G9DxAcB3JS1C",
        "outputId": "e3cb48ee-c7e0-405a-e24a-8f8409279bfe"
      },
      "outputs": [
        {
          "output_type": "execute_result",
          "data": {
            "text/plain": [
              "battery_power    0\n",
              "blue             0\n",
              "clock_speed      0\n",
              "dual_sim         0\n",
              "fc               0\n",
              "four_g           0\n",
              "int_memory       0\n",
              "m_dep            0\n",
              "mobile_wt        0\n",
              "n_cores          0\n",
              "pc               0\n",
              "px_height        0\n",
              "px_width         0\n",
              "ram              0\n",
              "sc_h             0\n",
              "sc_w             0\n",
              "talk_time        0\n",
              "three_g          0\n",
              "touch_screen     0\n",
              "wifi             0\n",
              "price_range      0\n",
              "dtype: int64"
            ]
          },
          "metadata": {},
          "execution_count": 8
        }
      ],
      "source": [
        "# Missing Values\n",
        "\n",
        "data.isnull().sum()"
      ]
    },
    {
      "cell_type": "markdown",
      "metadata": {
        "id": "LaIqGwTLM9q4"
      },
      "source": [
        "*  In our Dataset there is **no null** values."
      ]
    },
    {
      "cell_type": "code",
      "execution_count": null,
      "metadata": {
        "colab": {
          "base_uri": "https://localhost:8080/"
        },
        "id": "3Ts9tD3RNGmF",
        "outputId": "6ea5cc04-0b01-4652-8e5a-2f0f2b5c4a3b"
      },
      "outputs": [
        {
          "output_type": "execute_result",
          "data": {
            "text/plain": [
              "Index(['battery_power', 'blue', 'clock_speed', 'dual_sim', 'fc', 'four_g',\n",
              "       'int_memory', 'm_dep', 'mobile_wt', 'n_cores', 'pc', 'px_height',\n",
              "       'px_width', 'ram', 'sc_h', 'sc_w', 'talk_time', 'three_g',\n",
              "       'touch_screen', 'wifi', 'price_range'],\n",
              "      dtype='object')"
            ]
          },
          "metadata": {},
          "execution_count": 9
        }
      ],
      "source": [
        "# Dataset columns\n",
        "\n",
        "data.columns"
      ]
    },
    {
      "cell_type": "markdown",
      "metadata": {
        "id": "SzGjwwVvPiQ4"
      },
      "source": [
        "**Data Description**\n",
        "\n",
        "\n",
        "![Classification_Mobile_Price_Range_Prediction_f0084ac835.png](data:image/png;base64,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)"
      ]
    },
    {
      "cell_type": "code",
      "execution_count": null,
      "metadata": {
        "colab": {
          "base_uri": "https://localhost:8080/",
          "height": 707
        },
        "id": "kxMigx4qNGya",
        "outputId": "a7e6330c-9a13-4ab4-8bd3-cf4e844a3891"
      },
      "outputs": [
        {
          "output_type": "execute_result",
          "data": {
            "text/plain": [
              "                count        mean          std    min      25%     50%  \\\n",
              "battery_power  2000.0  1238.51850   439.418206  501.0   851.75  1226.0   \n",
              "blue           2000.0     0.49500     0.500100    0.0     0.00     0.0   \n",
              "clock_speed    2000.0     1.52225     0.816004    0.5     0.70     1.5   \n",
              "dual_sim       2000.0     0.50950     0.500035    0.0     0.00     1.0   \n",
              "fc             2000.0     4.30950     4.341444    0.0     1.00     3.0   \n",
              "four_g         2000.0     0.52150     0.499662    0.0     0.00     1.0   \n",
              "int_memory     2000.0    32.04650    18.145715    2.0    16.00    32.0   \n",
              "m_dep          2000.0     0.50175     0.288416    0.1     0.20     0.5   \n",
              "mobile_wt      2000.0   140.24900    35.399655   80.0   109.00   141.0   \n",
              "n_cores        2000.0     4.52050     2.287837    1.0     3.00     4.0   \n",
              "pc             2000.0     9.91650     6.064315    0.0     5.00    10.0   \n",
              "px_height      2000.0   645.10800   443.780811    0.0   282.75   564.0   \n",
              "px_width       2000.0  1251.51550   432.199447  500.0   874.75  1247.0   \n",
              "ram            2000.0  2124.21300  1084.732044  256.0  1207.50  2146.5   \n",
              "sc_h           2000.0    12.30650     4.213245    5.0     9.00    12.0   \n",
              "sc_w           2000.0     5.76700     4.356398    0.0     2.00     5.0   \n",
              "talk_time      2000.0    11.01100     5.463955    2.0     6.00    11.0   \n",
              "three_g        2000.0     0.76150     0.426273    0.0     1.00     1.0   \n",
              "touch_screen   2000.0     0.50300     0.500116    0.0     0.00     1.0   \n",
              "wifi           2000.0     0.50700     0.500076    0.0     0.00     1.0   \n",
              "price_range    2000.0     1.50000     1.118314    0.0     0.75     1.5   \n",
              "\n",
              "                   75%     max  \n",
              "battery_power  1615.25  1998.0  \n",
              "blue              1.00     1.0  \n",
              "clock_speed       2.20     3.0  \n",
              "dual_sim          1.00     1.0  \n",
              "fc                7.00    19.0  \n",
              "four_g            1.00     1.0  \n",
              "int_memory       48.00    64.0  \n",
              "m_dep             0.80     1.0  \n",
              "mobile_wt       170.00   200.0  \n",
              "n_cores           7.00     8.0  \n",
              "pc               15.00    20.0  \n",
              "px_height       947.25  1960.0  \n",
              "px_width       1633.00  1998.0  \n",
              "ram            3064.50  3998.0  \n",
              "sc_h             16.00    19.0  \n",
              "sc_w              9.00    18.0  \n",
              "talk_time        16.00    20.0  \n",
              "three_g           1.00     1.0  \n",
              "touch_screen      1.00     1.0  \n",
              "wifi              1.00     1.0  \n",
              "price_range       2.25     3.0  "
            ],
            "text/html": [
              "\n",
              "  <div id=\"df-a277b133-f484-42c9-9b00-bf080b53f150\" class=\"colab-df-container\">\n",
              "    <div>\n",
              "<style scoped>\n",
              "    .dataframe tbody tr th:only-of-type {\n",
              "        vertical-align: middle;\n",
              "    }\n",
              "\n",
              "    .dataframe tbody tr th {\n",
              "        vertical-align: top;\n",
              "    }\n",
              "\n",
              "    .dataframe thead th {\n",
              "        text-align: right;\n",
              "    }\n",
              "</style>\n",
              "<table border=\"1\" class=\"dataframe\">\n",
              "  <thead>\n",
              "    <tr style=\"text-align: right;\">\n",
              "      <th></th>\n",
              "      <th>count</th>\n",
              "      <th>mean</th>\n",
              "      <th>std</th>\n",
              "      <th>min</th>\n",
              "      <th>25%</th>\n",
              "      <th>50%</th>\n",
              "      <th>75%</th>\n",
              "      <th>max</th>\n",
              "    </tr>\n",
              "  </thead>\n",
              "  <tbody>\n",
              "    <tr>\n",
              "      <th>battery_power</th>\n",
              "      <td>2000.0</td>\n",
              "      <td>1238.51850</td>\n",
              "      <td>439.418206</td>\n",
              "      <td>501.0</td>\n",
              "      <td>851.75</td>\n",
              "      <td>1226.0</td>\n",
              "      <td>1615.25</td>\n",
              "      <td>1998.0</td>\n",
              "    </tr>\n",
              "    <tr>\n",
              "      <th>blue</th>\n",
              "      <td>2000.0</td>\n",
              "      <td>0.49500</td>\n",
              "      <td>0.500100</td>\n",
              "      <td>0.0</td>\n",
              "      <td>0.00</td>\n",
              "      <td>0.0</td>\n",
              "      <td>1.00</td>\n",
              "      <td>1.0</td>\n",
              "    </tr>\n",
              "    <tr>\n",
              "      <th>clock_speed</th>\n",
              "      <td>2000.0</td>\n",
              "      <td>1.52225</td>\n",
              "      <td>0.816004</td>\n",
              "      <td>0.5</td>\n",
              "      <td>0.70</td>\n",
              "      <td>1.5</td>\n",
              "      <td>2.20</td>\n",
              "      <td>3.0</td>\n",
              "    </tr>\n",
              "    <tr>\n",
              "      <th>dual_sim</th>\n",
              "      <td>2000.0</td>\n",
              "      <td>0.50950</td>\n",
              "      <td>0.500035</td>\n",
              "      <td>0.0</td>\n",
              "      <td>0.00</td>\n",
              "      <td>1.0</td>\n",
              "      <td>1.00</td>\n",
              "      <td>1.0</td>\n",
              "    </tr>\n",
              "    <tr>\n",
              "      <th>fc</th>\n",
              "      <td>2000.0</td>\n",
              "      <td>4.30950</td>\n",
              "      <td>4.341444</td>\n",
              "      <td>0.0</td>\n",
              "      <td>1.00</td>\n",
              "      <td>3.0</td>\n",
              "      <td>7.00</td>\n",
              "      <td>19.0</td>\n",
              "    </tr>\n",
              "    <tr>\n",
              "      <th>four_g</th>\n",
              "      <td>2000.0</td>\n",
              "      <td>0.52150</td>\n",
              "      <td>0.499662</td>\n",
              "      <td>0.0</td>\n",
              "      <td>0.00</td>\n",
              "      <td>1.0</td>\n",
              "      <td>1.00</td>\n",
              "      <td>1.0</td>\n",
              "    </tr>\n",
              "    <tr>\n",
              "      <th>int_memory</th>\n",
              "      <td>2000.0</td>\n",
              "      <td>32.04650</td>\n",
              "      <td>18.145715</td>\n",
              "      <td>2.0</td>\n",
              "      <td>16.00</td>\n",
              "      <td>32.0</td>\n",
              "      <td>48.00</td>\n",
              "      <td>64.0</td>\n",
              "    </tr>\n",
              "    <tr>\n",
              "      <th>m_dep</th>\n",
              "      <td>2000.0</td>\n",
              "      <td>0.50175</td>\n",
              "      <td>0.288416</td>\n",
              "      <td>0.1</td>\n",
              "      <td>0.20</td>\n",
              "      <td>0.5</td>\n",
              "      <td>0.80</td>\n",
              "      <td>1.0</td>\n",
              "    </tr>\n",
              "    <tr>\n",
              "      <th>mobile_wt</th>\n",
              "      <td>2000.0</td>\n",
              "      <td>140.24900</td>\n",
              "      <td>35.399655</td>\n",
              "      <td>80.0</td>\n",
              "      <td>109.00</td>\n",
              "      <td>141.0</td>\n",
              "      <td>170.00</td>\n",
              "      <td>200.0</td>\n",
              "    </tr>\n",
              "    <tr>\n",
              "      <th>n_cores</th>\n",
              "      <td>2000.0</td>\n",
              "      <td>4.52050</td>\n",
              "      <td>2.287837</td>\n",
              "      <td>1.0</td>\n",
              "      <td>3.00</td>\n",
              "      <td>4.0</td>\n",
              "      <td>7.00</td>\n",
              "      <td>8.0</td>\n",
              "    </tr>\n",
              "    <tr>\n",
              "      <th>pc</th>\n",
              "      <td>2000.0</td>\n",
              "      <td>9.91650</td>\n",
              "      <td>6.064315</td>\n",
              "      <td>0.0</td>\n",
              "      <td>5.00</td>\n",
              "      <td>10.0</td>\n",
              "      <td>15.00</td>\n",
              "      <td>20.0</td>\n",
              "    </tr>\n",
              "    <tr>\n",
              "      <th>px_height</th>\n",
              "      <td>2000.0</td>\n",
              "      <td>645.10800</td>\n",
              "      <td>443.780811</td>\n",
              "      <td>0.0</td>\n",
              "      <td>282.75</td>\n",
              "      <td>564.0</td>\n",
              "      <td>947.25</td>\n",
              "      <td>1960.0</td>\n",
              "    </tr>\n",
              "    <tr>\n",
              "      <th>px_width</th>\n",
              "      <td>2000.0</td>\n",
              "      <td>1251.51550</td>\n",
              "      <td>432.199447</td>\n",
              "      <td>500.0</td>\n",
              "      <td>874.75</td>\n",
              "      <td>1247.0</td>\n",
              "      <td>1633.00</td>\n",
              "      <td>1998.0</td>\n",
              "    </tr>\n",
              "    <tr>\n",
              "      <th>ram</th>\n",
              "      <td>2000.0</td>\n",
              "      <td>2124.21300</td>\n",
              "      <td>1084.732044</td>\n",
              "      <td>256.0</td>\n",
              "      <td>1207.50</td>\n",
              "      <td>2146.5</td>\n",
              "      <td>3064.50</td>\n",
              "      <td>3998.0</td>\n",
              "    </tr>\n",
              "    <tr>\n",
              "      <th>sc_h</th>\n",
              "      <td>2000.0</td>\n",
              "      <td>12.30650</td>\n",
              "      <td>4.213245</td>\n",
              "      <td>5.0</td>\n",
              "      <td>9.00</td>\n",
              "      <td>12.0</td>\n",
              "      <td>16.00</td>\n",
              "      <td>19.0</td>\n",
              "    </tr>\n",
              "    <tr>\n",
              "      <th>sc_w</th>\n",
              "      <td>2000.0</td>\n",
              "      <td>5.76700</td>\n",
              "      <td>4.356398</td>\n",
              "      <td>0.0</td>\n",
              "      <td>2.00</td>\n",
              "      <td>5.0</td>\n",
              "      <td>9.00</td>\n",
              "      <td>18.0</td>\n",
              "    </tr>\n",
              "    <tr>\n",
              "      <th>talk_time</th>\n",
              "      <td>2000.0</td>\n",
              "      <td>11.01100</td>\n",
              "      <td>5.463955</td>\n",
              "      <td>2.0</td>\n",
              "      <td>6.00</td>\n",
              "      <td>11.0</td>\n",
              "      <td>16.00</td>\n",
              "      <td>20.0</td>\n",
              "    </tr>\n",
              "    <tr>\n",
              "      <th>three_g</th>\n",
              "      <td>2000.0</td>\n",
              "      <td>0.76150</td>\n",
              "      <td>0.426273</td>\n",
              "      <td>0.0</td>\n",
              "      <td>1.00</td>\n",
              "      <td>1.0</td>\n",
              "      <td>1.00</td>\n",
              "      <td>1.0</td>\n",
              "    </tr>\n",
              "    <tr>\n",
              "      <th>touch_screen</th>\n",
              "      <td>2000.0</td>\n",
              "      <td>0.50300</td>\n",
              "      <td>0.500116</td>\n",
              "      <td>0.0</td>\n",
              "      <td>0.00</td>\n",
              "      <td>1.0</td>\n",
              "      <td>1.00</td>\n",
              "      <td>1.0</td>\n",
              "    </tr>\n",
              "    <tr>\n",
              "      <th>wifi</th>\n",
              "      <td>2000.0</td>\n",
              "      <td>0.50700</td>\n",
              "      <td>0.500076</td>\n",
              "      <td>0.0</td>\n",
              "      <td>0.00</td>\n",
              "      <td>1.0</td>\n",
              "      <td>1.00</td>\n",
              "      <td>1.0</td>\n",
              "    </tr>\n",
              "    <tr>\n",
              "      <th>price_range</th>\n",
              "      <td>2000.0</td>\n",
              "      <td>1.50000</td>\n",
              "      <td>1.118314</td>\n",
              "      <td>0.0</td>\n",
              "      <td>0.75</td>\n",
              "      <td>1.5</td>\n",
              "      <td>2.25</td>\n",
              "      <td>3.0</td>\n",
              "    </tr>\n",
              "  </tbody>\n",
              "</table>\n",
              "</div>\n",
              "    <div class=\"colab-df-buttons\">\n",
              "\n",
              "  <div class=\"colab-df-container\">\n",
              "    <button class=\"colab-df-convert\" onclick=\"convertToInteractive('df-a277b133-f484-42c9-9b00-bf080b53f150')\"\n",
              "            title=\"Convert this dataframe to an interactive table.\"\n",
              "            style=\"display:none;\">\n",
              "\n",
              "  <svg xmlns=\"http://www.w3.org/2000/svg\" height=\"24px\" viewBox=\"0 -960 960 960\">\n",
              "    <path d=\"M120-120v-720h720v720H120Zm60-500h600v-160H180v160Zm220 220h160v-160H400v160Zm0 220h160v-160H400v160ZM180-400h160v-160H180v160Zm440 0h160v-160H620v160ZM180-180h160v-160H180v160Zm440 0h160v-160H620v160Z\"/>\n",
              "  </svg>\n",
              "    </button>\n",
              "\n",
              "  <style>\n",
              "    .colab-df-container {\n",
              "      display:flex;\n",
              "      gap: 12px;\n",
              "    }\n",
              "\n",
              "    .colab-df-convert {\n",
              "      background-color: #E8F0FE;\n",
              "      border: none;\n",
              "      border-radius: 50%;\n",
              "      cursor: pointer;\n",
              "      display: none;\n",
              "      fill: #1967D2;\n",
              "      height: 32px;\n",
              "      padding: 0 0 0 0;\n",
              "      width: 32px;\n",
              "    }\n",
              "\n",
              "    .colab-df-convert:hover {\n",
              "      background-color: #E2EBFA;\n",
              "      box-shadow: 0px 1px 2px rgba(60, 64, 67, 0.3), 0px 1px 3px 1px rgba(60, 64, 67, 0.15);\n",
              "      fill: #174EA6;\n",
              "    }\n",
              "\n",
              "    .colab-df-buttons div {\n",
              "      margin-bottom: 4px;\n",
              "    }\n",
              "\n",
              "    [theme=dark] .colab-df-convert {\n",
              "      background-color: #3B4455;\n",
              "      fill: #D2E3FC;\n",
              "    }\n",
              "\n",
              "    [theme=dark] .colab-df-convert:hover {\n",
              "      background-color: #434B5C;\n",
              "      box-shadow: 0px 1px 3px 1px rgba(0, 0, 0, 0.15);\n",
              "      filter: drop-shadow(0px 1px 2px rgba(0, 0, 0, 0.3));\n",
              "      fill: #FFFFFF;\n",
              "    }\n",
              "  </style>\n",
              "\n",
              "    <script>\n",
              "      const buttonEl =\n",
              "        document.querySelector('#df-a277b133-f484-42c9-9b00-bf080b53f150 button.colab-df-convert');\n",
              "      buttonEl.style.display =\n",
              "        google.colab.kernel.accessAllowed ? 'block' : 'none';\n",
              "\n",
              "      async function convertToInteractive(key) {\n",
              "        const element = document.querySelector('#df-a277b133-f484-42c9-9b00-bf080b53f150');\n",
              "        const dataTable =\n",
              "          await google.colab.kernel.invokeFunction('convertToInteractive',\n",
              "                                                    [key], {});\n",
              "        if (!dataTable) return;\n",
              "\n",
              "        const docLinkHtml = 'Like what you see? Visit the ' +\n",
              "          '<a target=\"_blank\" href=https://colab.research.google.com/notebooks/data_table.ipynb>data table notebook</a>'\n",
              "          + ' to learn more about interactive tables.';\n",
              "        element.innerHTML = '';\n",
              "        dataTable['output_type'] = 'display_data';\n",
              "        await google.colab.output.renderOutput(dataTable, element);\n",
              "        const docLink = document.createElement('div');\n",
              "        docLink.innerHTML = docLinkHtml;\n",
              "        element.appendChild(docLink);\n",
              "      }\n",
              "    </script>\n",
              "  </div>\n",
              "\n",
              "\n",
              "<div id=\"df-f9ab15b3-caab-4c9a-9499-b529a5d5abdd\">\n",
              "  <button class=\"colab-df-quickchart\" onclick=\"quickchart('df-f9ab15b3-caab-4c9a-9499-b529a5d5abdd')\"\n",
              "            title=\"Suggest charts\"\n",
              "            style=\"display:none;\">\n",
              "\n",
              "<svg xmlns=\"http://www.w3.org/2000/svg\" height=\"24px\"viewBox=\"0 0 24 24\"\n",
              "     width=\"24px\">\n",
              "    <g>\n",
              "        <path d=\"M19 3H5c-1.1 0-2 .9-2 2v14c0 1.1.9 2 2 2h14c1.1 0 2-.9 2-2V5c0-1.1-.9-2-2-2zM9 17H7v-7h2v7zm4 0h-2V7h2v10zm4 0h-2v-4h2v4z\"/>\n",
              "    </g>\n",
              "</svg>\n",
              "  </button>\n",
              "\n",
              "<style>\n",
              "  .colab-df-quickchart {\n",
              "      --bg-color: #E8F0FE;\n",
              "      --fill-color: #1967D2;\n",
              "      --hover-bg-color: #E2EBFA;\n",
              "      --hover-fill-color: #174EA6;\n",
              "      --disabled-fill-color: #AAA;\n",
              "      --disabled-bg-color: #DDD;\n",
              "  }\n",
              "\n",
              "  [theme=dark] .colab-df-quickchart {\n",
              "      --bg-color: #3B4455;\n",
              "      --fill-color: #D2E3FC;\n",
              "      --hover-bg-color: #434B5C;\n",
              "      --hover-fill-color: #FFFFFF;\n",
              "      --disabled-bg-color: #3B4455;\n",
              "      --disabled-fill-color: #666;\n",
              "  }\n",
              "\n",
              "  .colab-df-quickchart {\n",
              "    background-color: var(--bg-color);\n",
              "    border: none;\n",
              "    border-radius: 50%;\n",
              "    cursor: pointer;\n",
              "    display: none;\n",
              "    fill: var(--fill-color);\n",
              "    height: 32px;\n",
              "    padding: 0;\n",
              "    width: 32px;\n",
              "  }\n",
              "\n",
              "  .colab-df-quickchart:hover {\n",
              "    background-color: var(--hover-bg-color);\n",
              "    box-shadow: 0 1px 2px rgba(60, 64, 67, 0.3), 0 1px 3px 1px rgba(60, 64, 67, 0.15);\n",
              "    fill: var(--button-hover-fill-color);\n",
              "  }\n",
              "\n",
              "  .colab-df-quickchart-complete:disabled,\n",
              "  .colab-df-quickchart-complete:disabled:hover {\n",
              "    background-color: var(--disabled-bg-color);\n",
              "    fill: var(--disabled-fill-color);\n",
              "    box-shadow: none;\n",
              "  }\n",
              "\n",
              "  .colab-df-spinner {\n",
              "    border: 2px solid var(--fill-color);\n",
              "    border-color: transparent;\n",
              "    border-bottom-color: var(--fill-color);\n",
              "    animation:\n",
              "      spin 1s steps(1) infinite;\n",
              "  }\n",
              "\n",
              "  @keyframes spin {\n",
              "    0% {\n",
              "      border-color: transparent;\n",
              "      border-bottom-color: var(--fill-color);\n",
              "      border-left-color: var(--fill-color);\n",
              "    }\n",
              "    20% {\n",
              "      border-color: transparent;\n",
              "      border-left-color: var(--fill-color);\n",
              "      border-top-color: var(--fill-color);\n",
              "    }\n",
              "    30% {\n",
              "      border-color: transparent;\n",
              "      border-left-color: var(--fill-color);\n",
              "      border-top-color: var(--fill-color);\n",
              "      border-right-color: var(--fill-color);\n",
              "    }\n",
              "    40% {\n",
              "      border-color: transparent;\n",
              "      border-right-color: var(--fill-color);\n",
              "      border-top-color: var(--fill-color);\n",
              "    }\n",
              "    60% {\n",
              "      border-color: transparent;\n",
              "      border-right-color: var(--fill-color);\n",
              "    }\n",
              "    80% {\n",
              "      border-color: transparent;\n",
              "      border-right-color: var(--fill-color);\n",
              "      border-bottom-color: var(--fill-color);\n",
              "    }\n",
              "    90% {\n",
              "      border-color: transparent;\n",
              "      border-bottom-color: var(--fill-color);\n",
              "    }\n",
              "  }\n",
              "</style>\n",
              "\n",
              "  <script>\n",
              "    async function quickchart(key) {\n",
              "      const quickchartButtonEl =\n",
              "        document.querySelector('#' + key + ' button');\n",
              "      quickchartButtonEl.disabled = true;  // To prevent multiple clicks.\n",
              "      quickchartButtonEl.classList.add('colab-df-spinner');\n",
              "      try {\n",
              "        const charts = await google.colab.kernel.invokeFunction(\n",
              "            'suggestCharts', [key], {});\n",
              "      } catch (error) {\n",
              "        console.error('Error during call to suggestCharts:', error);\n",
              "      }\n",
              "      quickchartButtonEl.classList.remove('colab-df-spinner');\n",
              "      quickchartButtonEl.classList.add('colab-df-quickchart-complete');\n",
              "    }\n",
              "    (() => {\n",
              "      let quickchartButtonEl =\n",
              "        document.querySelector('#df-f9ab15b3-caab-4c9a-9499-b529a5d5abdd button');\n",
              "      quickchartButtonEl.style.display =\n",
              "        google.colab.kernel.accessAllowed ? 'block' : 'none';\n",
              "    })();\n",
              "  </script>\n",
              "</div>\n",
              "    </div>\n",
              "  </div>\n"
            ]
          },
          "metadata": {},
          "execution_count": 10
        }
      ],
      "source": [
        "# Data Describe\n",
        "\n",
        "data.describe().T"
      ]
    },
    {
      "cell_type": "code",
      "execution_count": null,
      "metadata": {
        "colab": {
          "base_uri": "https://localhost:8080/"
        },
        "id": "gx997SSjNGvE",
        "outputId": "535f4649-1ac7-42dc-94fe-7557e8f92bfd"
      },
      "outputs": [
        {
          "output_type": "execute_result",
          "data": {
            "text/plain": [
              "battery_power    1094\n",
              "blue                2\n",
              "clock_speed        26\n",
              "dual_sim            2\n",
              "fc                 20\n",
              "four_g              2\n",
              "int_memory         63\n",
              "m_dep              10\n",
              "mobile_wt         121\n",
              "n_cores             8\n",
              "pc                 21\n",
              "px_height        1137\n",
              "px_width         1109\n",
              "ram              1562\n",
              "sc_h               15\n",
              "sc_w               19\n",
              "talk_time          19\n",
              "three_g             2\n",
              "touch_screen        2\n",
              "wifi                2\n",
              "price_range         4\n",
              "dtype: int64"
            ]
          },
          "metadata": {},
          "execution_count": 11
        }
      ],
      "source": [
        "# Unique Value\n",
        "data.nunique()"
      ]
    },
    {
      "cell_type": "markdown",
      "metadata": {
        "id": "Ow03qYNPT86K"
      },
      "source": [
        "## ***3.Data Vizualization, Storytelling & Experimenting with charts : Understand the relationships between variables***"
      ]
    },
    {
      "cell_type": "code",
      "execution_count": null,
      "metadata": {
        "colab": {
          "base_uri": "https://localhost:8080/",
          "height": 472
        },
        "id": "iK5AMt68NGrw",
        "outputId": "c875fad0-c44b-4ecc-f4bc-4c16d2dc647e"
      },
      "outputs": [
        {
          "output_type": "display_data",
          "data": {
            "text/plain": [
              "<Figure size 640x480 with 1 Axes>"
            ],
            "image/png": "[encoded data removed]"
          },
          "metadata": {}
        }
      ],
      "source": [
        "# Distribution of Target Varible\n",
        "\n",
        "sns.countplot(x=data['price_range'])\n",
        "plt.title(\"Distribution of Price Range\")\n",
        "plt.show()"
      ]
    },
    {
      "cell_type": "markdown",
      "metadata": {
        "id": "uGYT2PuvWgap"
      },
      "source": [
        "This is the target variable with a value of\n",
        "\n",
        "O - low cost\n",
        "\n",
        "1 - medium cost\n",
        "\n",
        "2 - high cost\n",
        "\n",
        "3 - very high cost"
      ]
    },
    {
      "cell_type": "code",
      "execution_count": null,
      "metadata": {
        "colab": {
          "base_uri": "https://localhost:8080/",
          "height": 423
        },
        "id": "su8BBbxsWofi",
        "outputId": "9d186ecd-2eb4-4963-8484-56b9e977ef28"
      },
      "outputs": [
        {
          "output_type": "execute_result",
          "data": {
            "text/plain": [
              "<Axes: ylabel='four_g'>"
            ]
          },
          "metadata": {},
          "execution_count": 13
        },
        {
          "output_type": "display_data",
          "data": {
            "text/plain": [
              "<Figure size 640x480 with 1 Axes>"
            ],
            "image/png": "[encoded data removed]"
          },
          "metadata": {}
        }
      ],
      "source": [
        "# Percentage of 4 G mobiles\n",
        "\n",
        "data['four_g'].value_counts().plot.pie(autopct='%1.2f%%',explode=[0.1,0])\n"
      ]
    },
    {
      "cell_type": "code",
      "execution_count": null,
      "metadata": {
        "colab": {
          "base_uri": "https://localhost:8080/",
          "height": 542
        },
        "id": "wiyDa1Qc6bA0",
        "outputId": "18cc043e-07c8-486d-ad07-9fe6c732b475"
      },
      "outputs": [
        {
          "output_type": "display_data",
          "data": {
            "text/plain": [
              "<Figure size 1200x600 with 1 Axes>"
            ],
            "image/png": "[encoded data removed]"
          },
          "metadata": {}
        }
      ],
      "source": [
        "# Relatioin between Price range and Battery power with the help of Bar Plot\n",
        "\n",
        "plt.figure(figsize=(12,6))\n",
        "sns.barplot(data=data,x='price_range',y='battery_power')\n",
        "plt.show()"
      ]
    },
    {
      "cell_type": "code",
      "execution_count": null,
      "metadata": {
        "id": "bfF55pSq6a6N",
        "colab": {
          "base_uri": "https://localhost:8080/",
          "height": 696
        },
        "outputId": "95d82194-36b3-44b5-d9b1-595f3efc6d96"
      },
      "outputs": [
        {
          "output_type": "display_data",
          "data": {
            "text/plain": [
              "<Figure size 1000x800 with 2 Axes>"
            ],
            "image/png": "[encoded data removed]"
          },
          "metadata": {}
        }
      ],
      "source": [
        "# Reation between Price Range and Ram with the help of line plot\n",
        "\n",
        "plt.figure(figsize=(10,8))\n",
        "plt.subplot(2,1,1)\n",
        "sns.lineplot(data=data,x='price_range',y='ram')\n",
        "plt.subplot(2,1,2)\n",
        "sns.lineplot(data=data,y='price_range',x='ram')\n",
        "plt.show()"
      ]
    },
    {
      "cell_type": "code",
      "execution_count": null,
      "metadata": {
        "id": "szuyz_ed-x5G",
        "colab": {
          "base_uri": "https://localhost:8080/",
          "height": 542
        },
        "outputId": "41095e97-bbd9-4f51-939a-cffcae0ac94d"
      },
      "outputs": [
        {
          "output_type": "display_data",
          "data": {
            "text/plain": [
              "<Figure size 1400x600 with 2 Axes>"
            ],
            "image/png": "[encoded data removed]"
          },
          "metadata": {}
        }
      ],
      "source": [
        "# Reation between Price Range and Pixel height and width with the help of line plot\n",
        "\n",
        "plt.figure(figsize=(14,6))\n",
        "plt.subplot(1,2,1)\n",
        "sns.barplot(data=data,x='price_range',y='px_height')\n",
        "plt.subplot(1,2,2)\n",
        "sns.barplot(data=data,x='price_range',y='px_width')\n",
        "plt.show()"
      ]
    },
    {
      "cell_type": "code",
      "execution_count": null,
      "metadata": {
        "id": "AlxjJu9I-x1l",
        "colab": {
          "base_uri": "https://localhost:8080/",
          "height": 542
        },
        "outputId": "72cca5b7-7b6c-4888-956b-c5fa1293bc01"
      },
      "outputs": [
        {
          "output_type": "display_data",
          "data": {
            "text/plain": [
              "<Figure size 1200x600 with 1 Axes>"
            ],
            "image/png": "[encoded data removed]"
          },
          "metadata": {}
        }
      ],
      "source": [
        "# Realtionship between Price range and Memory\n",
        "\n",
        "plt.figure(figsize=(12,6))\n",
        "sns.lineplot(data=data,x='price_range',y='int_memory',hue='dual_sim')\n",
        "plt.show()"
      ]
    },
    {
      "cell_type": "code",
      "execution_count": null,
      "metadata": {
        "colab": {
          "base_uri": "https://localhost:8080/",
          "height": 1000
        },
        "id": "W-CaevcYWocb",
        "outputId": "d1bb1779-5fd7-47ef-8e2f-d89245a1b2e1"
      },
      "outputs": [
        {
          "output_type": "display_data",
          "data": {
            "text/plain": [
              "<Figure size 2000x1500 with 2 Axes>"
            ],
            "image/png": "[encoded data removed]"
          },
          "metadata": {}
        }
      ],
      "source": [
        "# Correlatioin heatmap\n",
        "\n",
        "plt.figure(figsize=(20,15))\n",
        "sns.heatmap(data.corr(),annot=True)\n",
        "plt.show()"
      ]
    },
    {
      "cell_type": "markdown",
      "metadata": {
        "id": "KYr4ybZYXBg5"
      },
      "source": [
        "## 7. Data Splitting"
      ]
    },
    {
      "cell_type": "code",
      "execution_count": null,
      "metadata": {
        "id": "J6mjLzRZ-xyz"
      },
      "outputs": [],
      "source": [
        "# Split your data to train and test. Choose Splitting ratio wisely.\n",
        "from sklearn.model_selection import train_test_split"
      ]
    },
    {
      "cell_type": "code",
      "execution_count": null,
      "metadata": {
        "colab": {
          "base_uri": "https://localhost:8080/"
        },
        "id": "OOLzEWiC-xvv",
        "outputId": "0bc28be8-f484-47a6-ae93-9e775d5129f1"
      },
      "outputs": [
        {
          "output_type": "stream",
          "name": "stdout",
          "text": [
            "Shape of X (2000, 20) respectively.\n",
            "Shape of Y (2000,) respectively.\n"
          ]
        }
      ],
      "source": [
        "# creating the set of dependent and independent variables\n",
        "\n",
        "x = data.drop(\"price_range\", axis=1)\n",
        "y = data['price_range']\n",
        "\n",
        "# print the shape of X and Y\n",
        "print(f\"Shape of X {x.shape} respectively.\")\n",
        "print(f\"Shape of Y {y.shape} respectively.\")"
      ]
    },
    {
      "cell_type": "code",
      "execution_count": null,
      "metadata": {
        "id": "RDSQvq1t-xs9"
      },
      "outputs": [],
      "source": [
        "# splitting into train and test\n",
        "x_train, x_test, y_train, y_test = train_test_split(x,y, test_size=0.25, random_state=42 )"
      ]
    },
    {
      "cell_type": "code",
      "execution_count": null,
      "metadata": {
        "colab": {
          "base_uri": "https://localhost:8080/"
        },
        "id": "7TCaeMKKaxfO",
        "outputId": "4256ff0d-377e-4a26-fc08-52281fe1df9c"
      },
      "outputs": [
        {
          "output_type": "stream",
          "name": "stdout",
          "text": [
            "Training Dataset Shape:--\n",
            "X_train shape  (1500, 20)\n",
            "Y_train shape  (1500,)\n",
            "Testing Dataset Shape:--\n",
            "X_test shape  (500, 20)\n",
            "Y_test shape  (500,)\n"
          ]
        }
      ],
      "source": [
        " #Getting the shape of Train Test set.\n",
        "\n",
        "print(\"Training Dataset Shape:--\")\n",
        "print(\"X_train shape \", x_train.shape)\n",
        "print(\"Y_train shape \", y_train.shape)\n",
        "print(\"Testing Dataset Shape:--\")\n",
        "print(\"X_test shape \",x_test.shape)\n",
        "print(\"Y_test shape \",y_test.shape)"
      ]
    },
    {
      "cell_type": "markdown",
      "metadata": {
        "id": "4GYhaaOobf-O"
      },
      "source": [
        "## ***6. ML Model Implementation***"
      ]
    },
    {
      "cell_type": "markdown",
      "metadata": {
        "id": "wK9VZxN8eFdN"
      },
      "source": [
        "## **Logistic Regression**"
      ]
    },
    {
      "cell_type": "code",
      "execution_count": null,
      "metadata": {
        "colab": {
          "base_uri": "https://localhost:8080/"
        },
        "id": "i0lZhmpGaxZj",
        "outputId": "cd774d0b-9cf1-4a5a-f0fb-2f0c2f55a680"
      },
      "outputs": [
        {
          "output_type": "stream",
          "name": "stderr",
          "text": [
            "/usr/local/lib/python3.10/dist-packages/sklearn/linear_model/_logistic.py:458: ConvergenceWarning: lbfgs failed to converge (status=1):\n",
            "STOP: TOTAL NO. of ITERATIONS REACHED LIMIT.\n",
            "\n",
            "Increase the number of iterations (max_iter) or scale the data as shown in:\n",
            "    https://scikit-learn.org/stable/modules/preprocessing.html\n",
            "Please also refer to the documentation for alternative solver options:\n",
            "    https://scikit-learn.org/stable/modules/linear_model.html#logistic-regression\n",
            "  n_iter_i = _check_optimize_result(\n"
          ]
        }
      ],
      "source": [
        "from sklearn.linear_model import LogisticRegression\n",
        "lr = LogisticRegression()\n",
        "\n",
        "# Fit the model\n",
        "lr_model=lr.fit(x_train,y_train)"
      ]
    },
    {
      "cell_type": "code",
      "execution_count": null,
      "metadata": {
        "id": "afnNnI9JffDW"
      },
      "outputs": [],
      "source": [
        "# Predict on the model\n",
        "test_pred_lr = lr_model.predict(x_test)"
      ]
    },
    {
      "cell_type": "code",
      "execution_count": null,
      "metadata": {
        "colab": {
          "base_uri": "https://localhost:8080/"
        },
        "id": "xtUnED7chgq6",
        "outputId": "c2f2a141-39d0-48d0-f0ca-ffc676a6373d"
      },
      "outputs": [
        {
          "output_type": "execute_result",
          "data": {
            "text/plain": [
              "array([[95, 36,  1,  0],\n",
              "       [24, 59, 26,  9],\n",
              "       [ 1, 23, 59, 37],\n",
              "       [ 0,  3, 32, 95]])"
            ]
          },
          "metadata": {},
          "execution_count": 25
        }
      ],
      "source": [
        "# Confusion Matrix\n",
        "from sklearn import metrics\n",
        "cnf_matrix = metrics.confusion_matrix(y_test, test_pred_lr)\n",
        "cnf_matrix"
      ]
    },
    {
      "cell_type": "code",
      "execution_count": null,
      "metadata": {
        "id": "cLHLtxmVju7m"
      },
      "outputs": [],
      "source": [
        "# Import Libraries fro accuracy,precission,recall,f1-score\n",
        "from sklearn.metrics import accuracy_score\n",
        "from sklearn.metrics import precision_score\n",
        "from sklearn.metrics import recall_score\n",
        "from sklearn.metrics import f1_score\n",
        "\n"
      ]
    },
    {
      "cell_type": "code",
      "execution_count": null,
      "metadata": {
        "colab": {
          "base_uri": "https://localhost:8080/"
        },
        "id": "KBP_jMMpjw7c",
        "outputId": "d5d39838-2905-4d60-e689-a10c46385465"
      },
      "outputs": [
        {
          "output_type": "execute_result",
          "data": {
            "text/plain": [
              "0.616"
            ]
          },
          "metadata": {},
          "execution_count": 27
        }
      ],
      "source": [
        "# Accuracy Score\n",
        "accuracy_score(y_test,test_pred_lr)"
      ]
    },
    {
      "cell_type": "code",
      "execution_count": null,
      "metadata": {
        "colab": {
          "base_uri": "https://localhost:8080/"
        },
        "id": "2keffDEChgbj",
        "outputId": "25ec8ed3-2eb1-4500-dc1d-94fb8aa62c4a"
      },
      "outputs": [
        {
          "output_type": "execute_result",
          "data": {
            "text/plain": [
              "0.6192516851298283"
            ]
          },
          "metadata": {},
          "execution_count": 28
        }
      ],
      "source": [
        "# Precision Score\n",
        "precision_score(y_test,test_pred_lr, average='weighted')"
      ]
    },
    {
      "cell_type": "code",
      "execution_count": null,
      "metadata": {
        "colab": {
          "base_uri": "https://localhost:8080/"
        },
        "id": "qXJ4jzAGmpPN",
        "outputId": "29aef932-caf0-462a-e08c-94a902b217d8"
      },
      "outputs": [
        {
          "output_type": "execute_result",
          "data": {
            "text/plain": [
              "0.616"
            ]
          },
          "metadata": {},
          "execution_count": 29
        }
      ],
      "source": [
        "# Recall Score\n",
        "recall_score(y_test,test_pred_lr, average='weighted')"
      ]
    },
    {
      "cell_type": "code",
      "execution_count": null,
      "metadata": {
        "colab": {
          "base_uri": "https://localhost:8080/"
        },
        "id": "e9-1qf30mpL6",
        "outputId": "57e1bdaf-b773-4acb-a778-b2c05ae025c3"
      },
      "outputs": [
        {
          "output_type": "execute_result",
          "data": {
            "text/plain": [
              "0.6168458670163861"
            ]
          },
          "metadata": {},
          "execution_count": 30
        }
      ],
      "source": [
        "# F1-Score\n",
        "f1_score(y_test,test_pred_lr, average='weighted')"
      ]
    },
    {
      "cell_type": "markdown",
      "metadata": {
        "id": "zW5-mL4nxsHZ"
      },
      "source": [
        "## **K Neighbors Classifier (KNN)**"
      ]
    },
    {
      "cell_type": "code",
      "execution_count": null,
      "metadata": {
        "id": "IGRzKiJRmpGT"
      },
      "outputs": [],
      "source": [
        "from sklearn.neighbors import KNeighborsClassifier\n",
        "knn=KNeighborsClassifier()\n",
        "\n",
        "# Fit the data\n",
        "knn_model=knn.fit(x_train,y_train)"
      ]
    },
    {
      "cell_type": "code",
      "execution_count": null,
      "metadata": {
        "id": "dZPYCt_PyIyN"
      },
      "outputs": [],
      "source": [
        "# Predict on the model\n",
        "test_pred_lr = knn_model.predict(x_test)"
      ]
    },
    {
      "cell_type": "code",
      "execution_count": null,
      "metadata": {
        "id": "YsuMlOqIyIup",
        "colab": {
          "base_uri": "https://localhost:8080/"
        },
        "outputId": "04a1e43c-ecd3-450c-bf64-9afa9459422e"
      },
      "outputs": [
        {
          "output_type": "execute_result",
          "data": {
            "text/plain": [
              "array([[126,   6,   0,   0],\n",
              "       [  6, 110,   2,   0],\n",
              "       [  0,   8, 107,   5],\n",
              "       [  0,   0,   7, 123]])"
            ]
          },
          "metadata": {},
          "execution_count": 33
        }
      ],
      "source": [
        "# Confusion Matrix\n",
        "from sklearn import metrics\n",
        "cnf_matrix = metrics.confusion_matrix(y_test, test_pred_lr)\n",
        "cnf_matrix"
      ]
    },
    {
      "cell_type": "code",
      "execution_count": null,
      "metadata": {
        "id": "cmSuX7gfyIrp",
        "colab": {
          "base_uri": "https://localhost:8080/"
        },
        "outputId": "d76ca5ea-5d9f-4f6d-881c-8ae77b7ab106"
      },
      "outputs": [
        {
          "output_type": "execute_result",
          "data": {
            "text/plain": [
              "0.932"
            ]
          },
          "metadata": {},
          "execution_count": 34
        }
      ],
      "source": [
        "# Accuracy Score\n",
        "accuracy_score(y_test,test_pred_lr)"
      ]
    },
    {
      "cell_type": "code",
      "execution_count": null,
      "metadata": {
        "id": "CsfN93VfyIot",
        "colab": {
          "base_uri": "https://localhost:8080/"
        },
        "outputId": "3b60406e-ef94-48f9-938d-6a7a952a06c4"
      },
      "outputs": [
        {
          "output_type": "execute_result",
          "data": {
            "text/plain": [
              "0.9325778990545049"
            ]
          },
          "metadata": {},
          "execution_count": 35
        }
      ],
      "source": [
        "# Precision Score\n",
        "precision_score(y_test,test_pred_lr, average='weighted')"
      ]
    },
    {
      "cell_type": "code",
      "execution_count": null,
      "metadata": {
        "id": "WhPhEh8NylH9",
        "colab": {
          "base_uri": "https://localhost:8080/"
        },
        "outputId": "6811d5e5-8baa-45e4-a9d8-0d32208a3665"
      },
      "outputs": [
        {
          "output_type": "execute_result",
          "data": {
            "text/plain": [
              "0.932"
            ]
          },
          "metadata": {},
          "execution_count": 36
        }
      ],
      "source": [
        "# Recall Score\n",
        "recall_score(y_test,test_pred_lr, average='weighted')"
      ]
    },
    {
      "cell_type": "code",
      "execution_count": null,
      "metadata": {
        "id": "KJc5E-1mylEV",
        "colab": {
          "base_uri": "https://localhost:8080/"
        },
        "outputId": "eef936ae-eb8e-4685-c798-e441ca7ee7d6"
      },
      "outputs": [
        {
          "output_type": "execute_result",
          "data": {
            "text/plain": [
              "0.9320795499337085"
            ]
          },
          "metadata": {},
          "execution_count": 37
        }
      ],
      "source": [
        "# F1-Score\n",
        "f1_score(y_test,test_pred_lr, average='weighted')"
      ]
    },
    {
      "cell_type": "markdown",
      "metadata": {
        "id": "QVz47PXRS_11"
      },
      "source": [
        "## **Support Vectors Machine Classifier (SVM)**"
      ]
    },
    {
      "cell_type": "code",
      "execution_count": null,
      "metadata": {
        "id": "N97B6Plryk9K"
      },
      "outputs": [],
      "source": [
        "from sklearn.svm import SVC\n",
        "svm=SVC()\n",
        "\n",
        "# Fit the model\n",
        "svm_model=svm.fit(x_train,y_train)"
      ]
    },
    {
      "cell_type": "code",
      "execution_count": null,
      "metadata": {
        "id": "s3wAkBTiyk50"
      },
      "outputs": [],
      "source": [
        "# Predict on the model\n",
        "test_pred_lr = svm_model.predict(x_test)"
      ]
    },
    {
      "cell_type": "code",
      "execution_count": null,
      "metadata": {
        "id": "c3Z_frm3yk2x",
        "colab": {
          "base_uri": "https://localhost:8080/"
        },
        "outputId": "68f6d18e-eb7c-4b8e-f146-9f98cb9775ef"
      },
      "outputs": [
        {
          "output_type": "execute_result",
          "data": {
            "text/plain": [
              "array([[128,   4,   0,   0],\n",
              "       [  3, 115,   0,   0],\n",
              "       [  0,   6, 109,   5],\n",
              "       [  0,   0,   6, 124]])"
            ]
          },
          "metadata": {},
          "execution_count": 40
        }
      ],
      "source": [
        "# Confusion Matrix\n",
        "from sklearn import metrics\n",
        "cnf_matrix = metrics.confusion_matrix(y_test, test_pred_lr)\n",
        "cnf_matrix"
      ]
    },
    {
      "cell_type": "code",
      "execution_count": null,
      "metadata": {
        "id": "gqZaVMPiT8Ol",
        "colab": {
          "base_uri": "https://localhost:8080/"
        },
        "outputId": "902b94fa-b837-4bfc-edcf-04fe492fa26e"
      },
      "outputs": [
        {
          "output_type": "execute_result",
          "data": {
            "text/plain": [
              "0.952"
            ]
          },
          "metadata": {},
          "execution_count": 41
        }
      ],
      "source": [
        "# Accuracy Score\n",
        "accuracy_score(y_test,test_pred_lr)"
      ]
    },
    {
      "cell_type": "code",
      "execution_count": null,
      "metadata": {
        "id": "F1UtHprmT8LQ",
        "colab": {
          "base_uri": "https://localhost:8080/"
        },
        "outputId": "5afdb7b1-5f08-4b04-9f63-41ccb182ccc8"
      },
      "outputs": [
        {
          "output_type": "execute_result",
          "data": {
            "text/plain": [
              "0.9524749399630027"
            ]
          },
          "metadata": {},
          "execution_count": 42
        }
      ],
      "source": [
        "# Precision Score\n",
        "precision_score(y_test,test_pred_lr, average='weighted')"
      ]
    },
    {
      "cell_type": "code",
      "execution_count": null,
      "metadata": {
        "id": "tDtgW4nzT8IX",
        "colab": {
          "base_uri": "https://localhost:8080/"
        },
        "outputId": "79b07900-69c0-4435-c857-b2c18272e4c2"
      },
      "outputs": [
        {
          "output_type": "execute_result",
          "data": {
            "text/plain": [
              "0.952"
            ]
          },
          "metadata": {},
          "execution_count": 43
        }
      ],
      "source": [
        "# Recall Score\n",
        "recall_score(y_test,test_pred_lr, average='weighted')"
      ]
    },
    {
      "cell_type": "code",
      "execution_count": null,
      "metadata": {
        "id": "RoQ18xAyT8FT",
        "colab": {
          "base_uri": "https://localhost:8080/"
        },
        "outputId": "f5403078-77e1-4d4a-e638-9988415f03b0"
      },
      "outputs": [
        {
          "output_type": "execute_result",
          "data": {
            "text/plain": [
              "0.9519436964569955"
            ]
          },
          "metadata": {},
          "execution_count": 44
        }
      ],
      "source": [
        "# F1-Score\n",
        "f1_score(y_test,test_pred_lr, average='weighted')"
      ]
    },
    {
      "cell_type": "markdown",
      "metadata": {
        "id": "Fd9zAHv-UXP1"
      },
      "source": [
        "## **Decision Tree Classifier**"
      ]
    },
    {
      "cell_type": "code",
      "execution_count": null,
      "metadata": {
        "id": "_kru2PZiUIT2"
      },
      "outputs": [],
      "source": [
        "from sklearn.tree import DecisionTreeClassifier\n",
        "dtc=DecisionTreeClassifier(random_state=2)\n",
        "\n",
        "# Fit the model\n",
        "dtc_model=dtc.fit(x_train,y_train)"
      ]
    },
    {
      "cell_type": "code",
      "execution_count": null,
      "metadata": {
        "id": "vbJ9xE9NUIQY"
      },
      "outputs": [],
      "source": [
        "# Predict on the model\n",
        "test_pred_lr = dtc_model.predict(x_test)"
      ]
    },
    {
      "cell_type": "code",
      "execution_count": null,
      "metadata": {
        "id": "yz8KGw8MUINK",
        "colab": {
          "base_uri": "https://localhost:8080/"
        },
        "outputId": "b4fdd9e5-09c5-437b-e360-e3a2e74c6403"
      },
      "outputs": [
        {
          "output_type": "execute_result",
          "data": {
            "text/plain": [
              "array([[114,  18,   0,   0],\n",
              "       [ 12,  93,  13,   0],\n",
              "       [  0,  14,  87,  19],\n",
              "       [  0,   0,  15, 115]])"
            ]
          },
          "metadata": {},
          "execution_count": 47
        }
      ],
      "source": [
        "# Confusion Matrix\n",
        "from sklearn import metrics\n",
        "cnf_matrix = metrics.confusion_matrix(y_test, test_pred_lr)\n",
        "cnf_matrix"
      ]
    },
    {
      "cell_type": "code",
      "execution_count": null,
      "metadata": {
        "id": "dPUp6otqUIKZ",
        "colab": {
          "base_uri": "https://localhost:8080/"
        },
        "outputId": "c1bcae20-f230-4302-8a5e-a7d540c0b5fc"
      },
      "outputs": [
        {
          "output_type": "execute_result",
          "data": {
            "text/plain": [
              "0.818"
            ]
          },
          "metadata": {},
          "execution_count": 48
        }
      ],
      "source": [
        "# Accuracy Score\n",
        "accuracy_score(y_test,test_pred_lr)"
      ]
    },
    {
      "cell_type": "code",
      "execution_count": null,
      "metadata": {
        "id": "-ogFqy3QUIHQ",
        "colab": {
          "base_uri": "https://localhost:8080/"
        },
        "outputId": "a4233bce-ffb8-41f0-96ba-efbf78397752"
      },
      "outputs": [
        {
          "output_type": "execute_result",
          "data": {
            "text/plain": [
              "0.8191406886066561"
            ]
          },
          "metadata": {},
          "execution_count": 49
        }
      ],
      "source": [
        "# Precision Score\n",
        "precision_score(y_test,test_pred_lr, average='weighted')"
      ]
    },
    {
      "cell_type": "code",
      "execution_count": null,
      "metadata": {
        "id": "H7yliuZ3X3VM",
        "colab": {
          "base_uri": "https://localhost:8080/"
        },
        "outputId": "1cce50a8-4ba1-4363-9909-e064da0da5d6"
      },
      "outputs": [
        {
          "output_type": "execute_result",
          "data": {
            "text/plain": [
              "0.818"
            ]
          },
          "metadata": {},
          "execution_count": 50
        }
      ],
      "source": [
        "# Recall Score\n",
        "recall_score(y_test,test_pred_lr, average='weighted')"
      ]
    },
    {
      "cell_type": "code",
      "execution_count": null,
      "metadata": {
        "id": "EmlwA-vKX3Rz",
        "colab": {
          "base_uri": "https://localhost:8080/"
        },
        "outputId": "cf1b1605-12ef-49e0-89ba-985fb3640dfd"
      },
      "outputs": [
        {
          "output_type": "execute_result",
          "data": {
            "text/plain": [
              "0.8181615800647632"
            ]
          },
          "metadata": {},
          "execution_count": 51
        }
      ],
      "source": [
        "# F1-Score\n",
        "f1_score(y_test,test_pred_lr, average='weighted')"
      ]
    },
    {
      "cell_type": "markdown",
      "metadata": {
        "id": "oCUhoK6AZKa1"
      },
      "source": [
        "## **Random Forest Classifier**"
      ]
    },
    {
      "cell_type": "code",
      "execution_count": null,
      "metadata": {
        "id": "CRUzf7FFX3Oc"
      },
      "outputs": [],
      "source": [
        "from sklearn.ensemble import RandomForestClassifier\n",
        "rfc=RandomForestClassifier(random_state=1)\n",
        "\n",
        "# Fit the model\n",
        "rfc_model=rfc.fit(x_train,y_train)"
      ]
    },
    {
      "cell_type": "code",
      "execution_count": null,
      "metadata": {
        "id": "xBUBEfXZZZCH"
      },
      "outputs": [],
      "source": [
        "# Predict on the model\n",
        "test_pred_lr = rfc_model.predict(x_test)"
      ]
    },
    {
      "cell_type": "code",
      "execution_count": null,
      "metadata": {
        "id": "YGacpq7TZY-w",
        "colab": {
          "base_uri": "https://localhost:8080/"
        },
        "outputId": "2bfb7a2c-5f87-455a-c2f9-b39f032be306"
      },
      "outputs": [
        {
          "output_type": "execute_result",
          "data": {
            "text/plain": [
              "array([[124,   8,   0,   0],\n",
              "       [  8, 104,   6,   0],\n",
              "       [  0,  13,  96,  11],\n",
              "       [  0,   0,  16, 114]])"
            ]
          },
          "metadata": {},
          "execution_count": 54
        }
      ],
      "source": [
        "# Confusion Matrix\n",
        "from sklearn import metrics\n",
        "cnf_matrix = metrics.confusion_matrix(y_test, test_pred_lr)\n",
        "cnf_matrix"
      ]
    },
    {
      "cell_type": "code",
      "execution_count": null,
      "metadata": {
        "id": "2ZcGH41IZY7j",
        "colab": {
          "base_uri": "https://localhost:8080/"
        },
        "outputId": "ee2f32f8-efea-4201-af14-545c9a1a6c8e"
      },
      "outputs": [
        {
          "output_type": "execute_result",
          "data": {
            "text/plain": [
              "0.876"
            ]
          },
          "metadata": {},
          "execution_count": 55
        }
      ],
      "source": [
        "# Accuracy Score\n",
        "accuracy_score(y_test,test_pred_lr)"
      ]
    },
    {
      "cell_type": "code",
      "execution_count": null,
      "metadata": {
        "id": "zPzFhggQX3Ls",
        "colab": {
          "base_uri": "https://localhost:8080/"
        },
        "outputId": "05822abb-eace-45f1-e81f-9a0a6c38aeab"
      },
      "outputs": [
        {
          "output_type": "execute_result",
          "data": {
            "text/plain": [
              "0.8767262372881356"
            ]
          },
          "metadata": {},
          "execution_count": 56
        }
      ],
      "source": [
        "# Precision Score\n",
        "precision_score(y_test,test_pred_lr, average='weighted')"
      ]
    },
    {
      "cell_type": "code",
      "execution_count": null,
      "metadata": {
        "id": "NyNbZxP1X3JA",
        "colab": {
          "base_uri": "https://localhost:8080/"
        },
        "outputId": "dc15864e-e5d5-43ba-d47d-f5d3627c83ee"
      },
      "outputs": [
        {
          "output_type": "execute_result",
          "data": {
            "text/plain": [
              "0.876"
            ]
          },
          "metadata": {},
          "execution_count": 57
        }
      ],
      "source": [
        "# Recall Score\n",
        "recall_score(y_test,test_pred_lr, average='weighted')"
      ]
    },
    {
      "cell_type": "code",
      "execution_count": null,
      "metadata": {
        "id": "mlCU36cWaK5N",
        "colab": {
          "base_uri": "https://localhost:8080/"
        },
        "outputId": "0d0606f2-5d5b-4bb9-b492-480075910640"
      },
      "outputs": [
        {
          "output_type": "execute_result",
          "data": {
            "text/plain": [
              "0.8760922640661203"
            ]
          },
          "metadata": {},
          "execution_count": 58
        }
      ],
      "source": [
        "# F1-Score\n",
        "f1_score(y_test,test_pred_lr, average='weighted')"
      ]
    },
    {
      "cell_type": "markdown",
      "metadata": {
        "id": "qQ1sfSUxbXDX"
      },
      "source": [
        "## **Gradient Boosting Classifier**\n",
        "\n",
        "\n"
      ]
    },
    {
      "cell_type": "code",
      "execution_count": null,
      "metadata": {
        "id": "PxqfSuZ-aK1s"
      },
      "outputs": [],
      "source": [
        "from sklearn.ensemble import GradientBoostingClassifier\n",
        "gbc=GradientBoostingClassifier(random_state=42)\n",
        "\n",
        "# Fit the model\n",
        "gbc_model=gbc.fit(x_train,y_train)"
      ]
    },
    {
      "cell_type": "code",
      "execution_count": null,
      "metadata": {
        "id": "ffzBUpw9aKys"
      },
      "outputs": [],
      "source": [
        "# Predict on the model\n",
        "test_pred_lr = gbc_model.predict(x_test)"
      ]
    },
    {
      "cell_type": "code",
      "execution_count": null,
      "metadata": {
        "id": "CQnKo9Rzbz_5",
        "colab": {
          "base_uri": "https://localhost:8080/"
        },
        "outputId": "86ba223e-91aa-4559-9aac-ca2c1dabda82"
      },
      "outputs": [
        {
          "output_type": "execute_result",
          "data": {
            "text/plain": [
              "array([[123,   9,   0,   0],\n",
              "       [  8, 103,   7,   0],\n",
              "       [  0,  11,  98,  11],\n",
              "       [  0,   0,  11, 119]])"
            ]
          },
          "metadata": {},
          "execution_count": 61
        }
      ],
      "source": [
        "# Confusion Matrix\n",
        "from sklearn import metrics\n",
        "cnf_matrix = metrics.confusion_matrix(y_test, test_pred_lr)\n",
        "cnf_matrix"
      ]
    },
    {
      "cell_type": "code",
      "execution_count": null,
      "metadata": {
        "id": "49kZdaCwbz8b",
        "colab": {
          "base_uri": "https://localhost:8080/"
        },
        "outputId": "fdba90f6-c3b7-45f7-f46d-08d762e054c3"
      },
      "outputs": [
        {
          "output_type": "execute_result",
          "data": {
            "text/plain": [
              "0.886"
            ]
          },
          "metadata": {},
          "execution_count": 62
        }
      ],
      "source": [
        "# Accuracy Score\n",
        "accuracy_score(y_test,test_pred_lr)"
      ]
    },
    {
      "cell_type": "code",
      "execution_count": null,
      "metadata": {
        "id": "GnnQxNEpbz5j",
        "colab": {
          "base_uri": "https://localhost:8080/"
        },
        "outputId": "53f78561-605f-4e84-e797-1f4823fd3ac6"
      },
      "outputs": [
        {
          "output_type": "execute_result",
          "data": {
            "text/plain": [
              "0.8862624995452377"
            ]
          },
          "metadata": {},
          "execution_count": 63
        }
      ],
      "source": [
        "# Precision Score\n",
        "precision_score(y_test,test_pred_lr, average='weighted')"
      ]
    },
    {
      "cell_type": "code",
      "execution_count": null,
      "metadata": {
        "id": "jqcDJBhucDMK",
        "colab": {
          "base_uri": "https://localhost:8080/"
        },
        "outputId": "245921e8-fbcd-449e-badc-cfb29c17dda1"
      },
      "outputs": [
        {
          "output_type": "execute_result",
          "data": {
            "text/plain": [
              "0.886"
            ]
          },
          "metadata": {},
          "execution_count": 64
        }
      ],
      "source": [
        "# Recall Score\n",
        "recall_score(y_test,test_pred_lr, average='weighted')"
      ]
    },
    {
      "cell_type": "code",
      "execution_count": null,
      "metadata": {
        "id": "hIufWF5JcDIs",
        "colab": {
          "base_uri": "https://localhost:8080/"
        },
        "outputId": "648042d3-0e4f-478d-a7d5-5321efa14af8"
      },
      "outputs": [
        {
          "output_type": "execute_result",
          "data": {
            "text/plain": [
              "0.8859835361938733"
            ]
          },
          "metadata": {},
          "execution_count": 65
        }
      ],
      "source": [
        "# F1-Score\n",
        "f1_score(y_test,test_pred_lr, average='weighted')"
      ]
    },
    {
      "cell_type": "markdown",
      "metadata": {
        "id": "7QGsy2GWmZdb"
      },
      "source": [
        "## **Other Analysis**"
      ]
    },
    {
      "cell_type": "markdown",
      "metadata": {
        "id": "Eo8jD7-3jvcA"
      },
      "source": [
        "**From the above Correlation heatmap graph we conclude that only few columns are correlated to each other.So for further analysis or prediction we take those columns**"
      ]
    },
    {
      "cell_type": "markdown",
      "metadata": {
        "id": "qN1oPBDJnDx1"
      },
      "source": [
        "### 7. Data Splitting"
      ]
    },
    {
      "cell_type": "code",
      "execution_count": null,
      "metadata": {
        "id": "j3y7bsQCleTq"
      },
      "outputs": [],
      "source": [
        "# Split your data to train and test. Choose Splitting ratio wisely.\n",
        "from sklearn.model_selection import train_test_split"
      ]
    },
    {
      "cell_type": "code",
      "execution_count": null,
      "metadata": {
        "id": "N7WK2BglleQY",
        "colab": {
          "base_uri": "https://localhost:8080/"
        },
        "outputId": "cea041b5-3a2f-49f6-9552-5dffcce4e277"
      },
      "outputs": [
        {
          "output_type": "stream",
          "name": "stdout",
          "text": [
            "Shape of X (2000, 5) respectively.\n",
            "Shape of Y (2000,) respectively.\n"
          ]
        }
      ],
      "source": [
        "# creating the set of dependent and independent variables\n",
        "\n",
        "x = data[['battery_power','mobile_wt','px_height','px_width','ram']]\n",
        "y = data['price_range']\n",
        "\n",
        "# print the shape of X and Y\n",
        "print(f\"Shape of X {x.shape} respectively.\")\n",
        "print(f\"Shape of Y {y.shape} respectively.\")"
      ]
    },
    {
      "cell_type": "code",
      "execution_count": null,
      "metadata": {
        "id": "4iNzNRMwldm0"
      },
      "outputs": [],
      "source": [
        "# splitting into train and test\n",
        "x_train, x_test, y_train, y_test = train_test_split(x,y, test_size=0.25, random_state=42 )"
      ]
    },
    {
      "cell_type": "code",
      "execution_count": null,
      "metadata": {
        "id": "35Sk79HApMHT",
        "colab": {
          "base_uri": "https://localhost:8080/"
        },
        "outputId": "d0c28686-93f2-4d4b-a750-012e2220d5a3"
      },
      "outputs": [
        {
          "output_type": "stream",
          "name": "stdout",
          "text": [
            "Training Dataset Shape:--\n",
            "X_train shape  (1500, 5)\n",
            "Y_train shape  (1500,)\n",
            "Testing Dataset Shape:--\n",
            "X_test shape  (500, 5)\n",
            "Y_test shape  (500,)\n"
          ]
        }
      ],
      "source": [
        " #Getting the shape of Train Test set.\n",
        "\n",
        "print(\"Training Dataset Shape:--\")\n",
        "print(\"X_train shape \", x_train.shape)\n",
        "print(\"Y_train shape \", y_train.shape)\n",
        "print(\"Testing Dataset Shape:--\")\n",
        "print(\"X_test shape \",x_test.shape)\n",
        "print(\"Y_test shape \",y_test.shape)"
      ]
    },
    {
      "cell_type": "markdown",
      "metadata": {
        "id": "EqyCpJdNpkO0"
      },
      "source": [
        "## **Logistic Regression**"
      ]
    },
    {
      "cell_type": "code",
      "execution_count": null,
      "metadata": {
        "id": "9anu_I9LpVB9",
        "colab": {
          "base_uri": "https://localhost:8080/"
        },
        "outputId": "14d45504-763e-4957-fd6d-f9e5ca31f76f"
      },
      "outputs": [
        {
          "output_type": "stream",
          "name": "stderr",
          "text": [
            "/usr/local/lib/python3.10/dist-packages/sklearn/linear_model/_logistic.py:458: ConvergenceWarning: lbfgs failed to converge (status=1):\n",
            "STOP: TOTAL NO. of ITERATIONS REACHED LIMIT.\n",
            "\n",
            "Increase the number of iterations (max_iter) or scale the data as shown in:\n",
            "    https://scikit-learn.org/stable/modules/preprocessing.html\n",
            "Please also refer to the documentation for alternative solver options:\n",
            "    https://scikit-learn.org/stable/modules/linear_model.html#logistic-regression\n",
            "  n_iter_i = _check_optimize_result(\n"
          ]
        }
      ],
      "source": [
        "from sklearn.linear_model import LogisticRegression\n",
        "lr = LogisticRegression()\n",
        "\n",
        "# Fit the model\n",
        "lr_model=lr.fit(x_train,y_train)"
      ]
    },
    {
      "cell_type": "code",
      "execution_count": null,
      "metadata": {
        "id": "xnDCOw3apU-X"
      },
      "outputs": [],
      "source": [
        "# Predict on the model\n",
        "test_pred_lr = lr_model.predict(x_test)"
      ]
    },
    {
      "cell_type": "code",
      "execution_count": null,
      "metadata": {
        "id": "zMOEabM2pU6r",
        "colab": {
          "base_uri": "https://localhost:8080/"
        },
        "outputId": "f1509e33-1428-4f08-e062-69681d0833ed"
      },
      "outputs": [
        {
          "output_type": "execute_result",
          "data": {
            "text/plain": [
              "0.608"
            ]
          },
          "metadata": {},
          "execution_count": 211
        }
      ],
      "source": [
        "# Accuracy Score\n",
        "accuracy_score(y_test,test_pred_lr)"
      ]
    },
    {
      "cell_type": "code",
      "execution_count": null,
      "metadata": {
        "id": "Fi82it0VpU3a",
        "colab": {
          "base_uri": "https://localhost:8080/"
        },
        "outputId": "d5d8f850-b923-4fe2-8301-79e446b6bb6c"
      },
      "outputs": [
        {
          "output_type": "execute_result",
          "data": {
            "text/plain": [
              "0.610221983283003"
            ]
          },
          "metadata": {},
          "execution_count": 212
        }
      ],
      "source": [
        "# Precision Score\n",
        "precision_score(y_test,test_pred_lr, average='weighted')"
      ]
    },
    {
      "cell_type": "code",
      "execution_count": null,
      "metadata": {
        "id": "hhU2e784pUv8",
        "colab": {
          "base_uri": "https://localhost:8080/"
        },
        "outputId": "11f4fa90-eb0e-4ad5-96ca-c0a2b698b070"
      },
      "outputs": [
        {
          "output_type": "execute_result",
          "data": {
            "text/plain": [
              "0.608"
            ]
          },
          "metadata": {},
          "execution_count": 213
        }
      ],
      "source": [
        "# Recall Score\n",
        "recall_score(y_test,test_pred_lr, average='weighted')"
      ]
    },
    {
      "cell_type": "code",
      "execution_count": null,
      "metadata": {
        "id": "uGvncKEXpvmu",
        "colab": {
          "base_uri": "https://localhost:8080/"
        },
        "outputId": "48618278-9b43-4aea-8649-e5f8108f7937"
      },
      "outputs": [
        {
          "output_type": "execute_result",
          "data": {
            "text/plain": [
              "0.6080513224407834"
            ]
          },
          "metadata": {},
          "execution_count": 214
        }
      ],
      "source": [
        "# F1-Score\n",
        "f1_score(y_test,test_pred_lr, average='weighted')"
      ]
    },
    {
      "cell_type": "markdown",
      "metadata": {
        "id": "_Vf4oZ3YqO8A"
      },
      "source": [
        "## **K Neighbors Classifier (KNN)**"
      ]
    },
    {
      "cell_type": "code",
      "execution_count": null,
      "metadata": {
        "id": "GDtoDqPmqQCA"
      },
      "outputs": [],
      "source": [
        "from sklearn.neighbors import KNeighborsClassifier\n",
        "knn=KNeighborsClassifier(n_neighbors=20)\n",
        "\n",
        "# Fit the data\n",
        "knn_model=knn.fit(x_train,y_train)"
      ]
    },
    {
      "cell_type": "code",
      "execution_count": null,
      "metadata": {
        "id": "AMrL3N0iqeMC"
      },
      "outputs": [],
      "source": [
        "# Predict on the model\n",
        "test_pred_lr = knn_model.predict(x_test)"
      ]
    },
    {
      "cell_type": "code",
      "execution_count": null,
      "metadata": {
        "id": "uxxBjc1zqhFU",
        "colab": {
          "base_uri": "https://localhost:8080/"
        },
        "outputId": "c15b121c-4923-4eec-e5d4-c5488aa68b6b"
      },
      "outputs": [
        {
          "output_type": "execute_result",
          "data": {
            "text/plain": [
              "array([[129,   3,   0,   0],\n",
              "       [  6, 111,   1,   0],\n",
              "       [  0,  13, 104,   3],\n",
              "       [  0,   0,   8, 122]])"
            ]
          },
          "metadata": {},
          "execution_count": 217
        }
      ],
      "source": [
        "# Confusion Matrix\n",
        "from sklearn import metrics\n",
        "cnf_matrix = metrics.confusion_matrix(y_test, test_pred_lr)\n",
        "cnf_matrix"
      ]
    },
    {
      "cell_type": "code",
      "execution_count": null,
      "metadata": {
        "id": "QpnE_sqsqjwh",
        "colab": {
          "base_uri": "https://localhost:8080/"
        },
        "outputId": "24627e43-505e-4ad5-bf6c-26ff4ed7740f"
      },
      "outputs": [
        {
          "output_type": "execute_result",
          "data": {
            "text/plain": [
              "0.932"
            ]
          },
          "metadata": {},
          "execution_count": 218
        }
      ],
      "source": [
        "# Accuracy Score\n",
        "accuracy_score(y_test,test_pred_lr)"
      ]
    },
    {
      "cell_type": "code",
      "source": [
        "# Precision Score\n",
        "precision_score(y_test,test_pred_lr, average='weighted')\n"
      ],
      "metadata": {
        "colab": {
          "base_uri": "https://localhost:8080/"
        },
        "id": "v16teNxP7GAE",
        "outputId": "54ae6a58-a1f1-4899-b188-8d6d3e332a84"
      },
      "execution_count": null,
      "outputs": [
        {
          "output_type": "execute_result",
          "data": {
            "text/plain": [
              "0.9331793389543122"
            ]
          },
          "metadata": {},
          "execution_count": 219
        }
      ]
    },
    {
      "cell_type": "code",
      "source": [
        "# Recall Score\n",
        "recall_score(y_test,test_pred_lr, average='weighted')"
      ],
      "metadata": {
        "colab": {
          "base_uri": "https://localhost:8080/"
        },
        "id": "8-Y9emmW7H1i",
        "outputId": "6e4c9193-611a-4c7d-aac6-a8ac92f262ae"
      },
      "execution_count": null,
      "outputs": [
        {
          "output_type": "execute_result",
          "data": {
            "text/plain": [
              "0.932"
            ]
          },
          "metadata": {},
          "execution_count": 220
        }
      ]
    },
    {
      "cell_type": "code",
      "source": [
        "# F1-Score\n",
        "f1_score(y_test,test_pred_lr, average='weighted')"
      ],
      "metadata": {
        "colab": {
          "base_uri": "https://localhost:8080/"
        },
        "id": "tLK_vjPs7HzB",
        "outputId": "3a4525d0-6e37-4b4b-fc19-2f4a50cc384a"
      },
      "execution_count": null,
      "outputs": [
        {
          "output_type": "execute_result",
          "data": {
            "text/plain": [
              "0.931979262318806"
            ]
          },
          "metadata": {},
          "execution_count": 221
        }
      ]
    },
    {
      "cell_type": "markdown",
      "source": [
        "## **Support Vectors Machine Classifier (SVM)**"
      ],
      "metadata": {
        "id": "a_rTB7lv7ZM_"
      }
    },
    {
      "cell_type": "code",
      "source": [
        "from sklearn.svm import SVC\n",
        "svm=SVC()\n",
        "\n",
        "# Fit the model\n",
        "svm_model=svm.fit(x_train,y_train)"
      ],
      "metadata": {
        "id": "dhFdEsCs8k7J"
      },
      "execution_count": null,
      "outputs": []
    },
    {
      "cell_type": "code",
      "source": [
        "# Predict on the model\n",
        "test_pred_lr = svm_model.predict(x_test)"
      ],
      "metadata": {
        "id": "NZ25169R7hja"
      },
      "execution_count": null,
      "outputs": []
    },
    {
      "cell_type": "code",
      "source": [
        "# Confusion Matrix\n",
        "from sklearn import metrics\n",
        "cnf_matrix = metrics.confusion_matrix(y_test, test_pred_lr)\n",
        "cnf_matrix"
      ],
      "metadata": {
        "colab": {
          "base_uri": "https://localhost:8080/"
        },
        "id": "9kQBEUvx7j83",
        "outputId": "f3f5b309-2131-4524-916b-45eb7e09c026"
      },
      "execution_count": null,
      "outputs": [
        {
          "output_type": "execute_result",
          "data": {
            "text/plain": [
              "array([[128,   4,   0,   0],\n",
              "       [  1, 117,   0,   0],\n",
              "       [  0,   8, 107,   5],\n",
              "       [  0,   0,   6, 124]])"
            ]
          },
          "metadata": {},
          "execution_count": 224
        }
      ]
    },
    {
      "cell_type": "code",
      "source": [
        "# Accuracy Score\n",
        "accuracy_score(y_test,test_pred_lr)"
      ],
      "metadata": {
        "colab": {
          "base_uri": "https://localhost:8080/"
        },
        "id": "AYWK_qcE7mc3",
        "outputId": "5ec580ea-4026-4468-96c1-03190324f949"
      },
      "execution_count": null,
      "outputs": [
        {
          "output_type": "execute_result",
          "data": {
            "text/plain": [
              "0.952"
            ]
          },
          "metadata": {},
          "execution_count": 225
        }
      ]
    },
    {
      "cell_type": "code",
      "source": [
        "# Precision Score\n",
        "precision_score(y_test,test_pred_lr, average='weighted')"
      ],
      "metadata": {
        "colab": {
          "base_uri": "https://localhost:8080/"
        },
        "id": "34avGq9C7p6i",
        "outputId": "b7583fbc-265a-4e3d-9cc7-98e4eff4def8"
      },
      "execution_count": null,
      "outputs": [
        {
          "output_type": "execute_result",
          "data": {
            "text/plain": [
              "0.9531791177882967"
            ]
          },
          "metadata": {},
          "execution_count": 226
        }
      ]
    },
    {
      "cell_type": "code",
      "source": [
        "# Recall Score\n",
        "recall_score(y_test,test_pred_lr, average='weighted')"
      ],
      "metadata": {
        "colab": {
          "base_uri": "https://localhost:8080/"
        },
        "id": "8dkdz90z7srK",
        "outputId": "75e3ffeb-55de-4c43-aad8-9ec3b8ebeb64"
      },
      "execution_count": null,
      "outputs": [
        {
          "output_type": "execute_result",
          "data": {
            "text/plain": [
              "0.952"
            ]
          },
          "metadata": {},
          "execution_count": 227
        }
      ]
    },
    {
      "cell_type": "code",
      "source": [
        "# F1-Score\n",
        "f1_score(y_test,test_pred_lr, average='weighted')"
      ],
      "metadata": {
        "colab": {
          "base_uri": "https://localhost:8080/"
        },
        "id": "PV5J5ImJ7vRY",
        "outputId": "b06e22cb-27c0-471a-c3c8-706be2a66069"
      },
      "execution_count": null,
      "outputs": [
        {
          "output_type": "execute_result",
          "data": {
            "text/plain": [
              "0.9519081896109385"
            ]
          },
          "metadata": {},
          "execution_count": 228
        }
      ]
    },
    {
      "cell_type": "markdown",
      "source": [
        "## **Decision Tree Classifier**"
      ],
      "metadata": {
        "id": "uFSM2OjB9LIf"
      }
    },
    {
      "cell_type": "code",
      "source": [
        "from sklearn.tree import DecisionTreeClassifier\n",
        "dtc=DecisionTreeClassifier(criterion='entropy',splitter='random',random_state=2)\n",
        "\n",
        "# Fit the model\n",
        "dtc_model=dtc.fit(x_train,y_train)"
      ],
      "metadata": {
        "id": "ishUAPfo9MPX"
      },
      "execution_count": null,
      "outputs": []
    },
    {
      "cell_type": "code",
      "source": [
        "# Predict on the model\n",
        "test_pred_lr = dtc_model.predict(x_test)"
      ],
      "metadata": {
        "id": "TUy4O3By9TcR"
      },
      "execution_count": null,
      "outputs": []
    },
    {
      "cell_type": "code",
      "source": [
        "# Confusion Matrix\n",
        "from sklearn import metrics\n",
        "cnf_matrix = metrics.confusion_matrix(y_test, test_pred_lr)\n",
        "cnf_matrix"
      ],
      "metadata": {
        "colab": {
          "base_uri": "https://localhost:8080/"
        },
        "id": "ftLnoU0w9WTX",
        "outputId": "342ddfe5-9958-4173-e1a4-82b5cd1b59cc"
      },
      "execution_count": null,
      "outputs": [
        {
          "output_type": "execute_result",
          "data": {
            "text/plain": [
              "array([[115,  17,   0,   0],\n",
              "       [  3, 109,   6,   0],\n",
              "       [  0,  10,  97,  13],\n",
              "       [  0,   0,  15, 115]])"
            ]
          },
          "metadata": {},
          "execution_count": 231
        }
      ]
    },
    {
      "cell_type": "code",
      "source": [
        "# Accuracy Score\n",
        "accuracy_score(y_test,test_pred_lr)"
      ],
      "metadata": {
        "colab": {
          "base_uri": "https://localhost:8080/"
        },
        "id": "yf-ZAU-49ZHb",
        "outputId": "24a137bb-d513-4c8c-a182-fc7124ba7b93"
      },
      "execution_count": null,
      "outputs": [
        {
          "output_type": "execute_result",
          "data": {
            "text/plain": [
              "0.872"
            ]
          },
          "metadata": {},
          "execution_count": 232
        }
      ]
    },
    {
      "cell_type": "code",
      "source": [
        "# Precision Score\n",
        "precision_score(y_test,test_pred_lr, average='weighted')"
      ],
      "metadata": {
        "colab": {
          "base_uri": "https://localhost:8080/"
        },
        "id": "OrGfm81n9dDc",
        "outputId": "4c77d10d-236d-4647-8f7e-1b8c35e9822e"
      },
      "execution_count": null,
      "outputs": [
        {
          "output_type": "execute_result",
          "data": {
            "text/plain": [
              "0.87731708000997"
            ]
          },
          "metadata": {},
          "execution_count": 233
        }
      ]
    },
    {
      "cell_type": "code",
      "source": [
        "# Recall Score\n",
        "recall_score(y_test,test_pred_lr, average='weighted')"
      ],
      "metadata": {
        "colab": {
          "base_uri": "https://localhost:8080/"
        },
        "id": "vFL_DTVo9f-Y",
        "outputId": "4ce509f1-2b9c-443b-a008-6eb8307e1fa9"
      },
      "execution_count": null,
      "outputs": [
        {
          "output_type": "execute_result",
          "data": {
            "text/plain": [
              "0.872"
            ]
          },
          "metadata": {},
          "execution_count": 234
        }
      ]
    },
    {
      "cell_type": "code",
      "source": [
        "# F1-Score\n",
        "f1_score(y_test,test_pred_lr, average='weighted')"
      ],
      "metadata": {
        "colab": {
          "base_uri": "https://localhost:8080/"
        },
        "id": "kTQOBdt-9ilD",
        "outputId": "d1f4dde3-cf8b-4f46-99d5-2e4e2c7b783c"
      },
      "execution_count": null,
      "outputs": [
        {
          "output_type": "execute_result",
          "data": {
            "text/plain": [
              "0.8728443789396367"
            ]
          },
          "metadata": {},
          "execution_count": 235
        }
      ]
    },
    {
      "cell_type": "markdown",
      "source": [
        "## **Random Forest Classifier**"
      ],
      "metadata": {
        "id": "xxYGuU2_-q-T"
      }
    },
    {
      "cell_type": "code",
      "source": [
        "from sklearn.ensemble import RandomForestClassifier\n",
        "rfc=RandomForestClassifier(criterion='entropy',random_state=1)\n",
        "\n",
        "# Fit the model\n",
        "rfc_model=rfc.fit(x_train,y_train)"
      ],
      "metadata": {
        "id": "0XYbSxxT-t6p"
      },
      "execution_count": null,
      "outputs": []
    },
    {
      "cell_type": "code",
      "source": [
        "# Predict on the model\n",
        "test_pred_lr = rfc_model.predict(x_test)"
      ],
      "metadata": {
        "id": "oTfBlS7L-_4z"
      },
      "execution_count": null,
      "outputs": []
    },
    {
      "cell_type": "code",
      "source": [
        "# Confusion Matrix\n",
        "from sklearn import metrics\n",
        "cnf_matrix = metrics.confusion_matrix(y_test, test_pred_lr)\n",
        "cnf_matrix"
      ],
      "metadata": {
        "colab": {
          "base_uri": "https://localhost:8080/"
        },
        "id": "xQ_n45Ur_Cup",
        "outputId": "b5ab032a-3434-469c-954a-e3b42e828f56"
      },
      "execution_count": null,
      "outputs": [
        {
          "output_type": "execute_result",
          "data": {
            "text/plain": [
              "array([[124,   8,   0,   0],\n",
              "       [  7, 109,   2,   0],\n",
              "       [  0,   8, 102,  10],\n",
              "       [  0,   0,   8, 122]])"
            ]
          },
          "metadata": {},
          "execution_count": 238
        }
      ]
    },
    {
      "cell_type": "code",
      "source": [
        "# Accuracy Score\n",
        "accuracy_score(y_test,test_pred_lr)"
      ],
      "metadata": {
        "colab": {
          "base_uri": "https://localhost:8080/"
        },
        "id": "kYkL9CCY_FvM",
        "outputId": "e64ac1b5-01c9-4950-98f3-3793fcf5af6b"
      },
      "execution_count": null,
      "outputs": [
        {
          "output_type": "execute_result",
          "data": {
            "text/plain": [
              "0.914"
            ]
          },
          "metadata": {},
          "execution_count": 239
        }
      ]
    },
    {
      "cell_type": "code",
      "source": [
        "# Precision Score\n",
        "precision_score(y_test,test_pred_lr, average='weighted')"
      ],
      "metadata": {
        "colab": {
          "base_uri": "https://localhost:8080/"
        },
        "id": "VJwPRvhL_IP8",
        "outputId": "8960f4fe-d8cf-4860-da4d-6f2a21a449f6"
      },
      "execution_count": null,
      "outputs": [
        {
          "output_type": "execute_result",
          "data": {
            "text/plain": [
              "0.9145595886454512"
            ]
          },
          "metadata": {},
          "execution_count": 240
        }
      ]
    },
    {
      "cell_type": "code",
      "source": [
        "# Recall Score\n",
        "recall_score(y_test,test_pred_lr, average='weighted')"
      ],
      "metadata": {
        "colab": {
          "base_uri": "https://localhost:8080/"
        },
        "id": "IGbtAX91_K_h",
        "outputId": "36dedbb8-045a-4d88-fda0-63ff4569f9ba"
      },
      "execution_count": null,
      "outputs": [
        {
          "output_type": "execute_result",
          "data": {
            "text/plain": [
              "0.914"
            ]
          },
          "metadata": {},
          "execution_count": 241
        }
      ]
    },
    {
      "cell_type": "code",
      "source": [
        "# F1-Score\n",
        "f1_score(y_test,test_pred_lr, average='weighted')"
      ],
      "metadata": {
        "colab": {
          "base_uri": "https://localhost:8080/"
        },
        "id": "uUwp4NXu_NnW",
        "outputId": "a58d137b-822c-47f9-fe1e-cb8a5f621ba2"
      },
      "execution_count": null,
      "outputs": [
        {
          "output_type": "execute_result",
          "data": {
            "text/plain": [
              "0.9138350177272945"
            ]
          },
          "metadata": {},
          "execution_count": 242
        }
      ]
    },
    {
      "cell_type": "markdown",
      "source": [
        "## **Gradient Boosting Classifier**\n"
      ],
      "metadata": {
        "id": "DqLCuL9vAV7J"
      }
    },
    {
      "cell_type": "code",
      "source": [
        "from sklearn.ensemble import GradientBoostingClassifier\n",
        "gbc=GradientBoostingClassifier(random_state=42)\n",
        "\n",
        "# Fit the model\n",
        "gbc_model=gbc.fit(x_train,y_train)"
      ],
      "metadata": {
        "id": "H0SkBF2nAa6m"
      },
      "execution_count": null,
      "outputs": []
    },
    {
      "cell_type": "code",
      "source": [
        "# Predict on the model\n",
        "test_pred_lr = gbc_model.predict(x_test)"
      ],
      "metadata": {
        "id": "RqpHkqfcAdfG"
      },
      "execution_count": null,
      "outputs": []
    },
    {
      "cell_type": "code",
      "source": [
        "# Confusion Matrix\n",
        "from sklearn import metrics\n",
        "cnf_matrix = metrics.confusion_matrix(y_test, test_pred_lr)\n",
        "cnf_matrix"
      ],
      "metadata": {
        "colab": {
          "base_uri": "https://localhost:8080/"
        },
        "id": "RMmgqoXmAfwv",
        "outputId": "cc73c5a8-734e-4a88-cb54-32eedcd909dc"
      },
      "execution_count": null,
      "outputs": [
        {
          "output_type": "execute_result",
          "data": {
            "text/plain": [
              "array([[122,  10,   0,   0],\n",
              "       [  5, 108,   5,   0],\n",
              "       [  0,   9, 100,  11],\n",
              "       [  0,   0,  11, 119]])"
            ]
          },
          "metadata": {},
          "execution_count": 245
        }
      ]
    },
    {
      "cell_type": "code",
      "source": [
        "# Accuracy Score\n",
        "accuracy_score(y_test,test_pred_lr)"
      ],
      "metadata": {
        "colab": {
          "base_uri": "https://localhost:8080/"
        },
        "id": "ukbhC8YcAi1M",
        "outputId": "d568cc29-2c24-4644-9178-38a36005b6c1"
      },
      "execution_count": null,
      "outputs": [
        {
          "output_type": "execute_result",
          "data": {
            "text/plain": [
              "0.898"
            ]
          },
          "metadata": {},
          "execution_count": 246
        }
      ]
    },
    {
      "cell_type": "code",
      "source": [
        "# Precision Score\n",
        "precision_score(y_test,test_pred_lr, average='weighted')"
      ],
      "metadata": {
        "colab": {
          "base_uri": "https://localhost:8080/"
        },
        "id": "sg9pg2zIAlSP",
        "outputId": "b90408c9-1473-40f5-9465-c0fa57d5a749"
      },
      "execution_count": null,
      "outputs": [
        {
          "output_type": "execute_result",
          "data": {
            "text/plain": [
              "0.899195764322563"
            ]
          },
          "metadata": {},
          "execution_count": 247
        }
      ]
    },
    {
      "cell_type": "code",
      "source": [
        "# Recall Score\n",
        "recall_score(y_test,test_pred_lr, average='weighted')"
      ],
      "metadata": {
        "colab": {
          "base_uri": "https://localhost:8080/"
        },
        "id": "weDhbo-kAn9f",
        "outputId": "b4f8a845-d5ec-4768-a25b-e43596aa57fc"
      },
      "execution_count": null,
      "outputs": [
        {
          "output_type": "execute_result",
          "data": {
            "text/plain": [
              "0.898"
            ]
          },
          "metadata": {},
          "execution_count": 248
        }
      ]
    },
    {
      "cell_type": "code",
      "source": [
        "# F1-Score\n",
        "f1_score(y_test,test_pred_lr, average='weighted')"
      ],
      "metadata": {
        "colab": {
          "base_uri": "https://localhost:8080/"
        },
        "id": "nJ-4OmE4Aq3Q",
        "outputId": "7dc8b6d2-4761-4440-ad9d-0c7aae747653"
      },
      "execution_count": null,
      "outputs": [
        {
          "output_type": "execute_result",
          "data": {
            "text/plain": [
              "0.8981655613413483"
            ]
          },
          "metadata": {},
          "execution_count": 249
        }
      ]
    }
  ],
  "metadata": {
    "colab": {
      "provenance": [],
      "collapsed_sections": [
        "zqd5IuuYUZwq",
        "wViVmaQRUOuI",
        "Ow03qYNPT86K",
        "KYr4ybZYXBg5",
        "wK9VZxN8eFdN",
        "zW5-mL4nxsHZ",
        "Fd9zAHv-UXP1",
        "oCUhoK6AZKa1",
        "qQ1sfSUxbXDX",
        "qN1oPBDJnDx1",
        "EqyCpJdNpkO0",
        "_Vf4oZ3YqO8A"
      ]
    },
    "kernelspec": {
      "display_name": "Python 3",
      "name": "python3"
    },
    "language_info": {
      "name": "python"
    }
  },
  "nbformat": 4,
  "nbformat_minor": 0
}